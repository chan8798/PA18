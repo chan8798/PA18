{
 "metadata": {
  "language_info": {
   "codemirror_mode": {
    "name": "ipython",
    "version": 3
   },
   "file_extension": ".py",
   "mimetype": "text/x-python",
   "name": "python",
   "nbconvert_exporter": "python",
   "pygments_lexer": "ipython3",
   "version": "3.8.5-final"
  },
  "orig_nbformat": 2,
  "kernelspec": {
   "name": "python3",
   "display_name": "Python 3.8.5 64-bit (conda)",
   "metadata": {
    "interpreter": {
     "hash": "b3ba2566441a7c06988d0923437866b63cedc61552a5af99d1f4fb67d367b25f"
    }
   }
  }
 },
 "nbformat": 4,
 "nbformat_minor": 2,
 "cells": [
  {
   "source": [
    "## ch2-note-string ipynb by PA18\n",
    "\n"
   ],
   "cell_type": "markdown",
   "metadata": {}
  },
  {
   "source": [
    "# 문자열"
   ],
   "cell_type": "markdown",
   "metadata": {}
  },
  {
   "cell_type": "code",
   "execution_count": 1,
   "metadata": {},
   "outputs": [
    {
     "output_type": "stream",
     "name": "stdout",
     "text": [
      "문자열: '\n"
     ]
    },
    {
     "output_type": "execute_result",
     "data": {
      "text/plain": [
       "\"Python's favorite food is perl\""
      ]
     },
     "metadata": {},
     "execution_count": 1
    }
   ],
   "source": [
    "print(\"문자열: '\")\n",
    "food = \"Python's favorite food is perl\"\n",
    "food"
   ]
  },
  {
   "cell_type": "code",
   "execution_count": 7,
   "metadata": {},
   "outputs": [
    {
     "output_type": "execute_result",
     "data": {
      "text/plain": [
       "'\"Python is very easy.\" he says.'"
      ]
     },
     "metadata": {},
     "execution_count": 7
    }
   ],
   "source": [
    "food = \"Python's favorite food is perl\"  # Error\n",
    "food\n",
    "say = '\"Python is very easy.\" he says.'\n",
    "say"
   ]
  },
  {
   "source": [
    "# 문자열: \\ 이용"
   ],
   "cell_type": "markdown",
   "metadata": {}
  },
  {
   "cell_type": "code",
   "execution_count": 6,
   "metadata": {},
   "outputs": [
    {
     "output_type": "execute_result",
     "data": {
      "text/plain": [
       "'\"Python is very easy.\" he says.'"
      ]
     },
     "metadata": {},
     "execution_count": 6
    }
   ],
   "source": [
    "food = 'Python\\'s favorite food is perl'\n",
    "food\n",
    "say = \"\\\"Python is very easy.\\\" he says.\"\n",
    "say"
   ]
  },
  {
   "source": [
    "# 문자열: 이스케이프 코드 이용"
   ],
   "cell_type": "markdown",
   "metadata": {}
  },
  {
   "cell_type": "code",
   "execution_count": 8,
   "metadata": {},
   "outputs": [
    {
     "output_type": "stream",
     "name": "stdout",
     "text": [
      "Life is too short\nYou need python\n\n... Life is too short\n... You need python\n... \n"
     ]
    }
   ],
   "source": [
    "multiline = \"Life is too short\\nYou need python\"\n",
    "multiline\n",
    "print(multiline)\n",
    "multiline = '''\n",
    "... Life is too short\n",
    "... You need python\n",
    "... '''\n",
    "multiline\n",
    "print(multiline)"
   ]
  },
  {
   "source": [
    "# 문자열 연산: 더하기"
   ],
   "cell_type": "markdown",
   "metadata": {}
  },
  {
   "cell_type": "code",
   "execution_count": 9,
   "metadata": {},
   "outputs": [
    {
     "output_type": "execute_result",
     "data": {
      "text/plain": [
       "'Python is fun!'"
      ]
     },
     "metadata": {},
     "execution_count": 9
    }
   ],
   "source": [
    "head = \"Python\"\n",
    "tail = \" is fun!\"\n",
    "head + tail"
   ]
  },
  {
   "source": [
    "# 문자열 연산: 곱하기"
   ],
   "cell_type": "markdown",
   "metadata": {}
  },
  {
   "cell_type": "code",
   "execution_count": 14,
   "metadata": {},
   "outputs": [
    {
     "output_type": "execute_result",
     "data": {
      "text/plain": [
       "'pythonpython'"
      ]
     },
     "metadata": {},
     "execution_count": 14
    }
   ],
   "source": [
    "a = \"python\"\n",
    "a * 2"
   ]
  },
  {
   "cell_type": "code",
   "execution_count": 15,
   "metadata": {},
   "outputs": [
    {
     "output_type": "stream",
     "name": "stdout",
     "text": [
      "==================================================\nI am now coding Python!\n==================================================\n"
     ]
    }
   ],
   "source": [
    "#####################################\n",
    "# multistring.py\n",
    "print(\"=\" * 50)\n",
    "print(\"I am now coding Python!\")\n",
    "print(\"=\" * 50)\n",
    "#####################################"
   ]
  },
  {
   "source": [
    "# 문자열 연산: 길이 구하기 - len()"
   ],
   "cell_type": "markdown",
   "metadata": {}
  },
  {
   "cell_type": "code",
   "execution_count": 16,
   "metadata": {},
   "outputs": [
    {
     "output_type": "execute_result",
     "data": {
      "text/plain": [
       "17"
      ]
     },
     "metadata": {},
     "execution_count": 16
    }
   ],
   "source": [
    "a = \"Life is too short\"\n",
    "len(a)"
   ]
  },
  {
   "source": [
    "# 문자열: 인덱싱이란?"
   ],
   "cell_type": "markdown",
   "metadata": {}
  },
  {
   "cell_type": "code",
   "execution_count": 18,
   "metadata": {},
   "outputs": [
    {
     "output_type": "stream",
     "name": "stdout",
     "text": [
      "e\nr\n"
     ]
    }
   ],
   "source": [
    "a = \"Life is too short, You need Python\"\n",
    "a[3]\n",
    "print(a[3])\n",
    "a[15]\n",
    "print(a[15])"
   ]
  },
  {
   "source": [
    "# 문자열: 인덱싱 활용"
   ],
   "cell_type": "markdown",
   "metadata": {}
  },
  {
   "cell_type": "code",
   "execution_count": 19,
   "metadata": {},
   "outputs": [
    {
     "output_type": "stream",
     "name": "stdout",
     "text": [
      "L\ns\nn\nL\no\ny\n \n"
     ]
    }
   ],
   "source": [
    "a = \"Life is too short, You need Python\"\n",
    "a[0]\n",
    "print(a[0])\n",
    "a[12]\n",
    "print(a[12])\n",
    "a[-1]\n",
    "print(a[-1])\n",
    "# a[-0]\n",
    "print(a[-0])\n",
    "a[-2]\n",
    "print(a[-2])\n",
    "a[-5]\n",
    "print(a[-5])\n",
    "a[-12]\n",
    "print(a[-12])"
   ]
  },
  {
   "source": [
    "# 문자열: 슬라이싱이란?"
   ],
   "cell_type": "markdown",
   "metadata": {}
  },
  {
   "cell_type": "code",
   "execution_count": 25,
   "metadata": {},
   "outputs": [
    {
     "output_type": "stream",
     "name": "stdout",
     "text": [
      "Life\nLife \nis\nshort\nLife\nYou need Python\nLife is too short\nLife is too short, You need Python\nYou need\n"
     ]
    }
   ],
   "source": [
    "a = \"Life is too short, You need Python\"\n",
    "# Life 를 뽑아낼려면 어떻게?\n",
    "b = a[0] + a[1] + a[2] + a[3]  # 문자열 뎌하기 연산\n",
    "b\n",
    "# slicing (슬라이싱)\n",
    "a[0:4]  # 0 <= index < 4\n",
    "print(a[0:4])\n",
    "a[0:5]\n",
    "print(a[0:5])\n",
    "a[5:7]\n",
    "print(a[5:7])\n",
    "a[12:17]\n",
    "print(a[12:17])\n",
    "# : 의 사용\n",
    "a[:4]\n",
    "print(a[:4])\n",
    "a[19:]\n",
    "print(a[19:])\n",
    "a[:17]\n",
    "print(a[:17])\n",
    "a[:]\n",
    "print(a[:])\n",
    "a[19:-7]\n",
    "print(a[19:-7])\n",
    "\n"
   ]
  },
  {
   "source": [
    "# 문자열: 슬라이싱 응용?"
   ],
   "cell_type": "markdown",
   "metadata": {}
  },
  {
   "cell_type": "code",
   "execution_count": 31,
   "metadata": {},
   "outputs": [
    {
     "output_type": "stream",
     "name": "stdout",
     "text": [
      "20190909\nSunny\n"
     ]
    }
   ],
   "source": [
    "a = \"20190909Sunny\"\n",
    "date = a[:8]\n",
    "weather = a[8:]\n",
    "print(date)\n",
    "print(weather)"
   ]
  },
  {
   "cell_type": "code",
   "execution_count": 27,
   "metadata": {},
   "outputs": [
    {
     "output_type": "execute_result",
     "data": {
      "text/plain": [
       "('2019', '0917', 'Rainy')"
      ]
     },
     "metadata": {},
     "execution_count": 27
    }
   ],
   "source": [
    "a = \"20190917Rainy\"\n",
    "year = a[:4]\n",
    "day = a[4:8]\n",
    "weather = a[8:]\n",
    "year,day,weather"
   ]
  },
  {
   "cell_type": "code",
   "execution_count": 35,
   "metadata": {},
   "outputs": [
    {
     "output_type": "stream",
     "name": "stdout",
     "text": [
      "P\nthon\nPython\n"
     ]
    }
   ],
   "source": [
    "# \"Pithon\"이라는 문자열을 \"Python\"으로 바꾸려면?\n",
    "a = \"Pithon\"\n",
    "a[:1]\n",
    "print(a[:1])\n",
    "a[2:]\n",
    "print(a[2:])\n",
    "a[:1] + 'y' + a[2:]\n",
    "print(a[:1]+'y'+a[2:])\n"
   ]
  },
  {
   "cell_type": "code",
   "execution_count": null,
   "metadata": {},
   "outputs": [],
   "source": []
  }
 ]
}