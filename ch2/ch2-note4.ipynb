{
 "metadata": {
  "language_info": {
   "codemirror_mode": {
    "name": "ipython",
    "version": 3
   },
   "file_extension": ".py",
   "mimetype": "text/x-python",
   "name": "python",
   "nbconvert_exporter": "python",
   "pygments_lexer": "ipython3",
   "version": "3.8.5"
  },
  "orig_nbformat": 2,
  "kernelspec": {
   "name": "python3",
   "display_name": "Python 3.8.5 64-bit ('base': conda)",
   "metadata": {
    "interpreter": {
     "hash": "b3ba2566441a7c06988d0923437866b63cedc61552a5af99d1f4fb67d367b25f"
    }
   }
  }
 },
 "nbformat": 4,
 "nbformat_minor": 2,
 "cells": [
  {
   "source": [
    "## ch2-note4.ipynb.by PA18"
   ],
   "cell_type": "markdown",
   "metadata": {}
  },
  {
   "source": [
    "\"튜플: tuple 이란?\""
   ],
   "cell_type": "markdown",
   "metadata": {}
  },
  {
   "source": [
    "-리스트는 [ ]으로 둘러싸지만 튜플은 ( )으로 둘러싼다.\n",
    "-리스트는 그 값의 생성, 삭제, 수정이 가능하지만 튜플은 그 값을 바꿀 수 없다."
   ],
   "cell_type": "markdown",
   "metadata": {}
  },
  {
   "cell_type": "code",
   "execution_count": null,
   "metadata": {},
   "outputs": [],
   "source": [
    "even = (2, 4, 6, 8)\n",
    "# 여러 가지 튜플\n",
    "t1 = ()  # 튜플 초기화\n",
    "t2 = (1,)\n",
    "t3 = (1, 2, 3)\n",
    "t4 = 1, 2, 3\n",
    "t5 = (\"a\", \"b\", (\"ab\", \"cd\"))\n",
    "# t2 = (1,)처럼 단지 1개의 요소만을 가질 때는 요소 뒤에\n",
    "# 콤마(,)를 반드시 붙여야 한다는 것과\n",
    "# t4 = 1, 2, 3처럼 괄호( )를 생략해도 무방하다.\n",
    "#####################################################\n",
    "#\n",
    "# 튜플의 요소값을 지우거나 변경하려고 하면 어떻게 될까?\n",
    "#\n",
    "# 1. 튜플 요솟값을 삭제하려 할 때\n",
    "t1 = (1, 2, \"a\", \"b\")\n",
    "del t1[0]  # Error\n",
    "#\n",
    "# 2. 튜플 요솟값을 변경하려 할 때\n",
    "#\n",
    "t1[0] = \"c\"  # TypeError\n"
   ]
  },
  {
   "source": [
    "## \"튜플: 사용방법\""
   ],
   "cell_type": "markdown",
   "metadata": {}
  },
  {
   "source": [
    "# 인덱싱하기"
   ],
   "cell_type": "markdown",
   "metadata": {}
  },
  {
   "cell_type": "code",
   "execution_count": 2,
   "metadata": {},
   "outputs": [
    {
     "output_type": "stream",
     "name": "stdout",
     "text": [
      "1\nb\n"
     ]
    }
   ],
   "source": [
    "t1 = (1, 2, \"a\", \"b\")\n",
    "print(t1[0])\n",
    "print(t1[3])"
   ]
  },
  {
   "source": [
    "\n",
    "# 슬라이싱하기"
   ],
   "cell_type": "markdown",
   "metadata": {}
  },
  {
   "cell_type": "code",
   "execution_count": 1,
   "metadata": {},
   "outputs": [
    {
     "output_type": "stream",
     "name": "stdout",
     "text": [
      "(2, 'a', 'b')\n('a',)\n('a', 'b')\n"
     ]
    }
   ],
   "source": [
    "t1 = (1, 2, \"a\", \"b\")\n",
    "print(t1[1:])\n",
    "print(t1[2:-1])  # ('a',)\n",
    "print(t1[2:])"
   ]
  },
  {
   "source": [
    "# 튜플 더하기"
   ],
   "cell_type": "markdown",
   "metadata": {}
  },
  {
   "cell_type": "code",
   "execution_count": 2,
   "metadata": {},
   "outputs": [
    {
     "output_type": "stream",
     "name": "stdout",
     "text": [
      "(1, 2, 'a', 'b', 3, 4)\n"
     ]
    }
   ],
   "source": [
    "t1 = (1, 2, \"a\", \"b\")\n",
    "t2 = (3, 4)\n",
    "print(t1 + t2)\n"
   ]
  },
  {
   "source": [
    "# 튜플 곱하기"
   ],
   "cell_type": "markdown",
   "metadata": {}
  },
  {
   "cell_type": "code",
   "execution_count": 5,
   "metadata": {},
   "outputs": [
    {
     "output_type": "stream",
     "name": "stdout",
     "text": [
      "2253096276736\n(3, 4, 3, 4, 3, 4)\n2253096276736\n2253097346912\n"
     ]
    }
   ],
   "source": [
    "t2 = (3, 4)\n",
    "print(id(t2))\n",
    "print(t2 * 3)\n",
    "print(id(t2))\n",
    "t2 = t2 * 3\n",
    "print(id(t2))"
   ]
  },
  {
   "source": [
    "# 튜플 길이 구하기"
   ],
   "cell_type": "markdown",
   "metadata": {}
  },
  {
   "cell_type": "code",
   "execution_count": 6,
   "metadata": {},
   "outputs": [
    {
     "output_type": "stream",
     "name": "stdout",
     "text": [
      "4\n"
     ]
    }
   ],
   "source": [
    "t1 = (1, 2, \"a\", \"b\")\n",
    "print(len(t1))"
   ]
  },
  {
   "cell_type": "code",
   "execution_count": null,
   "metadata": {},
   "outputs": [],
   "source": []
  }
 ]
}