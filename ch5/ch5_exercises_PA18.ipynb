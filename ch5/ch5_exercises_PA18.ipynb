{
  "nbformat": 4,
  "nbformat_minor": 0,
  "metadata": {
    "colab": {
      "name": "ch5_exercises.PA18",
      "provenance": [],
      "collapsed_sections": [],
      "include_colab_link": true
    },
    "kernelspec": {
      "name": "python3",
      "display_name": "Python 3"
    }
  },
  "cells": [
    {
      "cell_type": "markdown",
      "metadata": {
        "id": "view-in-github",
        "colab_type": "text"
      },
      "source": [
        "<a href=\"https://colab.research.google.com/github/chan8798/PA18/blob/main/ch5/ch5_exercises_PA18.ipynb\" target=\"_parent\"><img src=\"https://colab.research.google.com/assets/colab-badge.svg\" alt=\"Open In Colab\"/></a>"
      ]
    },
    {
      "cell_type": "markdown",
      "metadata": {
        "id": "ovY5jkD5dpxE"
      },
      "source": [
        "## ch5_exercises.ipynb"
      ]
    },
    {
      "cell_type": "markdown",
      "metadata": {
        "id": "SZw6UnxQWYBe"
      },
      "source": [
        "## Q1.\n",
        "> 다음은 Calculator 클래스이다.\n",
        "\n",
        "```\n",
        "class Calculator:\n",
        "    def __init__(self):\n",
        "        self.value = 0\n",
        "\n",
        "    def add(self, val):\n",
        "        self.value += val\n",
        "```\n",
        "---\n",
        "> 위 클래스를 상속하는 UpgradeCalculator를 만들고 값을 뺄 수 있는 minus 메서드를 추가해 보자. \n",
        ">> 즉 다음과 같이 동작하는 클래스를 만들어야 한다.\n",
        "```\n",
        "cal = UpgradeCalculator()\n",
        "cal.add(10)\n",
        "cal.minus(7)\n",
        "print(cal.value) # 10에서 7을 뺀 3을 출력\n",
        "```\n"
      ]
    },
    {
      "cell_type": "code",
      "metadata": {
        "id": "rUNNaqJPdg7B",
        "colab": {
          "base_uri": "https://localhost:8080/"
        },
        "outputId": "959daba1-e69c-4f86-888f-087a9f180989"
      },
      "source": [
        "# [Q1] Code  \n",
        "class Calculator:\n",
        "    def __init__(self):    # 클래스 초기화 \n",
        "        self.value = 0     # self의 값을 0으로 초기화\n",
        " \n",
        "    def add(self, val):    \n",
        "        self.value += val  # self.value에 받는 값을 누적하여 더함\n",
        "\n",
        "class UpgradeCalculator(Calculator):   # Calculator 클래스를 상속하는 클래스 UpgradeCalculator\n",
        "    def minus(self, val):\n",
        "        self.value -= val  # self.value에 받는 값을 누적하여 뻄\n",
        "\n",
        "cal = UpgradeCalculator()  # cal에  UpgradeCalculator 호출\n",
        "cal.add(10)                # add함수에 값을 10을 넣고 실행\n",
        "cal.minus(7)               # minus함수에 값을 7을 넣고 실행\n",
        "print(cal.value) # 10에서 7을 뺀 3을 출력\n"
      ],
      "execution_count": null,
      "outputs": [
        {
          "output_type": "stream",
          "text": [
            "3\n"
          ],
          "name": "stdout"
        }
      ]
    },
    {
      "cell_type": "markdown",
      "metadata": {
        "id": "re2-XrUYXF1m"
      },
      "source": [
        "## Q2.\n",
        "> 객체변수 value가 100 이상의 값은 가질 수 없도록 제한하는 MaxLimitCalculator 클래스를 만들어 보자. \n",
        ">> 즉 다음과 같이 동작해야 한다.\n",
        "```\n",
        "cal = MaxLimitCalculator()\n",
        "cal.add(50) # 50 더하기\n",
        "cal.add(60) # 60 더하기\n",
        "print(cal.value) # 100 출력\n",
        "```\n",
        ">> 단 반드시 다음과 같은 Calculator 클래스를 상속해서 만들어야 한다.\n",
        "```\n",
        "class Calculator:\n",
        "    def __init__(self):\n",
        "        self.value = 0\n",
        "    def add(self, val):\n",
        "        self.value += val\n",
        "```"
      ]
    },
    {
      "cell_type": "code",
      "metadata": {
        "id": "5MBLUZ5WXF1q",
        "colab": {
          "base_uri": "https://localhost:8080/"
        },
        "outputId": "67c20c82-d5ee-442e-c266-af30ab82b104"
      },
      "source": [
        "# [Q2] Code\n",
        "class Calculator:\n",
        "    def __init__(self):        # 클래스 초기화\n",
        "        self.value = 0         # self의 값을 0으로 초기화\n",
        "    def add(self, val):\n",
        "        self.value += val      # self.value에 받는 값을 누적하여 더함\n",
        "\n",
        "class MaxLimitCalculator(Calculator):  # Calculator 클래스를 상속하는 클래스 MaxLimitCalculator\n",
        "    def add(self, val):       # 메서드 오버라이딩을 이용해 부모클래스의 동일한 이름의 함수를 재생성\n",
        "        self.value += val     # self.value에 받는 값을 누적하여 더함\n",
        "        if self.value > 100:  # 만일 self.value내의 값이 100\n",
        "          self.value = 100\n",
        "          print(\"최대 숫자는 100을 넘을 수 없습니다.\",)\n",
        "\n",
        "\n",
        "\n",
        "cal = MaxLimitCalculator()   # cal에  UpgradeCalculator 호출\n",
        "cal.add(50) # 50 더하기\n",
        "cal.add(60) # 60 더하기\n",
        "print(cal.value) # 100 출력\n",
        "\n"
      ],
      "execution_count": null,
      "outputs": [
        {
          "output_type": "stream",
          "text": [
            "최대 숫자는 100을 넘을 수 없습니다.\n",
            "100\n"
          ],
          "name": "stdout"
        }
      ]
    },
    {
      "cell_type": "markdown",
      "metadata": {
        "id": "UZy8lu_BXGnT"
      },
      "source": [
        "## Q3.\n",
        "> 다음 결과를 예측해 보자.\n",
        "\n",
        "- 하나.\n",
        "```\n",
        "all([1, 2, abs(-3)-3])\n",
        "```\n",
        "\n",
        "- 둘.\n",
        "```\n",
        "chr(ord('a')) == 'a'\n",
        "```"
      ]
    },
    {
      "cell_type": "code",
      "metadata": {
        "id": "H9T_sXHzXGnW",
        "colab": {
          "base_uri": "https://localhost:8080/"
        },
        "outputId": "30387070-7d83-47e3-a002-591936ccd9ce"
      },
      "source": [
        "# [Q3] Code\n",
        "print(abs(-3))\n",
        "all([1, 2, abs(-3)-3])\n",
        "# abs함수는 받은 숫자를 절댓값으로 돌려준다.\n",
        "# all 함수는 iterable 내의 모든 요소가 참(True)일 경우 True를\n",
        "# 모든요소 중 하나라도 거짓(False)일 경우 False를 출력하는데 위의 상황은 \n",
        "# abs함수로 -3의 정수인 3이 된 숫자가 리스트내에서 3-3으로 연산되고 그값으로 0이 되어 \n",
        "# 리스트 내에는 [1,2,0]이라는 숫자가 남게 되는데 파이썬은 숫자 0은 거짓(False)으로 취급\n",
        "# 하기 때문에 False가 출력된다.\n"
      ],
      "execution_count": null,
      "outputs": [
        {
          "output_type": "stream",
          "text": [
            "3\n"
          ],
          "name": "stdout"
        },
        {
          "output_type": "execute_result",
          "data": {
            "text/plain": [
              "False"
            ]
          },
          "metadata": {
            "tags": []
          },
          "execution_count": 3
        }
      ]
    },
    {
      "cell_type": "code",
      "metadata": {
        "colab": {
          "base_uri": "https://localhost:8080/"
        },
        "id": "EYETrVJMLMdS",
        "outputId": "83ca0cd5-537c-4176-a38e-d648e45b18f2"
      },
      "source": [
        "# [Q3] Code2\n",
        "print(ord('a'))\n",
        "print(chr(97))\n",
        "chr(ord('a')) == 'a'\n",
        "# chr함수는 아스키코드 값을 받으면 그 값에 해당하는 문자 출력\n",
        "# ord함수는 받은 문자를 아스키코드로 출력\n",
        "# ord('a')에서 'a'를 아스키코드 97로 변환 해주고 chr(97)에서 다시 문자 'a'로 변환 해주기 때문에 참(True)가 출력 된다."
      ],
      "execution_count": null,
      "outputs": [
        {
          "output_type": "stream",
          "text": [
            "97\n",
            "a\n"
          ],
          "name": "stdout"
        },
        {
          "output_type": "execute_result",
          "data": {
            "text/plain": [
              "True"
            ]
          },
          "metadata": {
            "tags": []
          },
          "execution_count": 6
        }
      ]
    },
    {
      "cell_type": "markdown",
      "metadata": {
        "id": "fqypxxqTXHY7"
      },
      "source": [
        "## Q4.\n",
        "> filter와 lambda를 사용하여 리스트 [1, -2, 3, -5, 8, -3]에서 음수를 모두 제거해 보자."
      ]
    },
    {
      "cell_type": "code",
      "metadata": {
        "id": "oQ5UnmayXHY-",
        "colab": {
          "base_uri": "https://localhost:8080/"
        },
        "outputId": "509e31c7-aefa-4622-9591-6a60fa9e7ff9"
      },
      "source": [
        "# [Q4] Code\n",
        "numbers = [1, -2, 3 ,-5, 8, -3]\n",
        "list(filter(lambda num:num>0,numbers))\n",
        "\n",
        "# lambda 인자:표현식  의 형식으로 사용\n",
        "\n",
        "# filter 함수는 filter(함수명,[앞의 함수에 들어가는 반복가능자료형])의 형식으로 사용하며\n",
        "# 두 번째 인수인 자료형이 첫 번째 인수인 함수에 입력되었을 때 반환 값이 참인 것만 묶어서 반환"
      ],
      "execution_count": null,
      "outputs": [
        {
          "output_type": "execute_result",
          "data": {
            "text/plain": [
              "[1, 3, 8]"
            ]
          },
          "metadata": {
            "tags": []
          },
          "execution_count": 5
        }
      ]
    },
    {
      "cell_type": "markdown",
      "metadata": {
        "id": "NKsvciXZXIL-"
      },
      "source": [
        "## Q5.\n",
        "> 234라는 10진수의 16진수는 다음과 같이 구할 수 있다.\n",
        "```\n",
        "hex(234)\n",
        "'0xea'\n",
        "```\n",
        "> 이번에는 반대로 16진수 문자열 0xea를 10진수로 변경해 보자.\n",
        ">>※ 내장 함수 int를 활용해 보자.\n"
      ]
    },
    {
      "cell_type": "code",
      "metadata": {
        "id": "5MZQYOVjXIL_",
        "colab": {
          "base_uri": "https://localhost:8080/"
        },
        "outputId": "a2fb425a-8e6f-4f05-c488-5154682a380c"
      },
      "source": [
        "# [Q5] Code\n",
        "int('0xea',16) # int('16진수',16)은 16진수로 표현되어있는 값을\n",
        "               # 10진수로 변환 해준다.\n"
      ],
      "execution_count": null,
      "outputs": [
        {
          "output_type": "execute_result",
          "data": {
            "text/plain": [
              "234"
            ]
          },
          "metadata": {
            "tags": []
          },
          "execution_count": 7
        }
      ]
    },
    {
      "cell_type": "markdown",
      "metadata": {
        "id": "-3KHtOOoXJBV"
      },
      "source": [
        "## Q6.\n",
        "> map과 lambda를 사용하여 [1, 2, 3, 4] 리스트의 각 요솟값에 3이 곱해진 리스트 [3, 6, 9, 12]를 만들어 보자.\n"
      ]
    },
    {
      "cell_type": "code",
      "metadata": {
        "id": "AjYR0lUaXJBa",
        "colab": {
          "base_uri": "https://localhost:8080/"
        },
        "outputId": "1c804424-abc6-4f3d-8c78-84989f038e77"
      },
      "source": [
        "# [Q6] Code\n",
        "numbers =  [1, 2, 3, 4]\n",
        "list(map(lambda x:x*3,numbers))\n",
        "# map(함수, 반복가능자료형)의 형식으로 사용하며\n",
        "# 입력받은 자료형의 각 요소를 함수가 수행한 결과를 묶어서 돌려줌\n"
      ],
      "execution_count": null,
      "outputs": [
        {
          "output_type": "execute_result",
          "data": {
            "text/plain": [
              "[3, 6, 9, 12]"
            ]
          },
          "metadata": {
            "tags": []
          },
          "execution_count": 8
        }
      ]
    },
    {
      "cell_type": "markdown",
      "metadata": {
        "id": "YrS3b88QbmKo"
      },
      "source": [
        "## Q7.\n",
        "> 다음 리스트의 최댓값과 최솟값의 합을 구해 보자.\n",
        ">> [-8, 2, 7, 5, -3, 5, 0, 1]"
      ]
    },
    {
      "cell_type": "code",
      "metadata": {
        "id": "Ll_2InMWbmKq",
        "colab": {
          "base_uri": "https://localhost:8080/"
        },
        "outputId": "9550abe5-3a4a-4e90-fa27-1eb613eaff0f"
      },
      "source": [
        "# [Q7] Code\n",
        "List = [-8, 2, 7, 5, -3, 5, 0, 1]\n",
        "max(List) + min(List)\n",
        "# max(반복가능자료형)의 형식으로 사용\n",
        "# 받은 자료형의 가장 큰 값을 돌려줌\n",
        "\n",
        "# min(반복가능자료형)의 형식으로 사용\n",
        "# 받은 자료형의 가장 작은 값을 돌려줌\n"
      ],
      "execution_count": null,
      "outputs": [
        {
          "output_type": "execute_result",
          "data": {
            "text/plain": [
              "-1"
            ]
          },
          "metadata": {
            "tags": []
          },
          "execution_count": 9
        }
      ]
    },
    {
      "cell_type": "code",
      "metadata": {
        "colab": {
          "base_uri": "https://localhost:8080/"
        },
        "id": "yau24-LGLfYF",
        "outputId": "95bf82ce-0725-4386-afa2-95cb0059eee4"
      },
      "source": [
        "List = [-8, 2, 7, 5, -3, 5, 0, 1]\n",
        "count = 0\n",
        "while count < 4:                 # count가 4 이하이면 반복\n",
        "  count += 1                     # while 문이 반복 할 때마다 count+1\n",
        "  print(max(List) + min(List))   # List내의 최대값과 최소값을 더한값을 출력\n",
        "  List.remove(max(List))         # List내의 최대값 제거\n",
        "  List.remove(min(List))         # List내의 최소값 제거"
      ],
      "execution_count": null,
      "outputs": [
        {
          "output_type": "stream",
          "text": [
            "-1\n",
            "2\n",
            "5\n",
            "3\n"
          ],
          "name": "stdout"
        }
      ]
    },
    {
      "cell_type": "code",
      "metadata": {
        "colab": {
          "base_uri": "https://localhost:8080/"
        },
        "id": "fTqFtfoeLh_d",
        "outputId": "2ecd303f-cf31-4d32-b029-99273aa10ff8"
      },
      "source": [
        "List = [-8, 2, 7, 5, -3, 5, 0, 1] \n",
        "List.sort()                               # List내의 숫자 정렬\n",
        "maximum = 0\n",
        "least = 7\n",
        "\n",
        "while maximum < len(List)/2:             # maximum의 값이 len(List)/2 (4)의 값보다 작을 경우 반복 \n",
        "  print(List[maximum]+List[least])       # List내의 maximum(0+n)자리의 수와 least(7-n)자리의 수를 더한 값을 출력\n",
        "  maximum += 1                           # maximum의 값 1증가\n",
        "  least -= 1                             # least의 값 1감소"
      ],
      "execution_count": null,
      "outputs": [
        {
          "output_type": "stream",
          "text": [
            "-1\n",
            "2\n",
            "5\n",
            "3\n"
          ],
          "name": "stdout"
        }
      ]
    },
    {
      "cell_type": "markdown",
      "metadata": {
        "id": "OcSDHHYkK6lZ"
      },
      "source": [
        "## Q8.\n",
        "> 17 / 3의 결과는 다음과 같다.\n",
        "```\n",
        "17 / 3\n",
        "5.666666666666667\n",
        "```\n",
        "> 위와 같은 결괏값 5.666666666666667을 소숫점 4자리까지만 반올림하여 표시해 보자."
      ]
    },
    {
      "cell_type": "code",
      "metadata": {
        "id": "GmaaVGqrK6le",
        "colab": {
          "base_uri": "https://localhost:8080/"
        },
        "outputId": "d81c1a21-9f0d-4c31-a6b5-f694c0f74417"
      },
      "source": [
        "# [Q8] Code\n",
        "round(17/3,4)\n",
        "# round(임의의숫자, 소숫점자리])의 형식으로 사용\n",
        "# 숫자를 입력받아 원하는 소숫점에서 반올림 해줌\n"
      ],
      "execution_count": null,
      "outputs": [
        {
          "output_type": "execute_result",
          "data": {
            "text/plain": [
              "5.6667"
            ]
          },
          "metadata": {
            "tags": []
          },
          "execution_count": 12
        }
      ]
    },
    {
      "cell_type": "code",
      "metadata": {
        "colab": {
          "base_uri": "https://localhost:8080/"
        },
        "id": "a9z3FfmJLpWJ",
        "outputId": "4026ef9f-7e68-45be-a121-8abb55c99a0e"
      },
      "source": [
        "num=17/3\n",
        "print(\"%.4f\"%num)"
      ],
      "execution_count": null,
      "outputs": [
        {
          "output_type": "stream",
          "text": [
            "5.6667\n"
          ],
          "name": "stdout"
        }
      ]
    },
    {
      "cell_type": "markdown",
      "metadata": {
        "id": "anwB_DjuK60j"
      },
      "source": [
        "## Q9.\n",
        "> 다음과 같이 실행할 때 입력값을 모두 더하여 출력하는 스크립트\n",
        "\n",
        "> (C:\\doit\\myargv.py)를 작성해 보자.\n",
        "```\n",
        "C:\\> cd doit\n",
        "C:\\doit> python myargv.py 1 2 3 4 5 6 7 8 9 10\n",
        "55\n",
        "```\n",
        ">> ※ 외장 함수 sys.argv를 사용해 보자."
      ]
    },
    {
      "cell_type": "code",
      "metadata": {
        "id": "JK5HU7FeVGQy"
      },
      "source": [
        "#[Q9] Code\n",
        "import sys\n",
        "\n",
        "numbers = sys.argv[1:] \n",
        "\n",
        "result = 0\n",
        "for number in numbers:\n",
        "    result += int(number)\n",
        "print(result)"
      ],
      "execution_count": null,
      "outputs": []
    },
    {
      "cell_type": "markdown",
      "metadata": {
        "id": "yEUOkVJuZVrj"
      },
      "source": [
        "![10.png](data:image/png;base64,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)"
      ]
    },
    {
      "cell_type": "markdown",
      "metadata": {
        "id": "PVA_-b0TK7Ai"
      },
      "source": [
        "## Q10.\n",
        "> os 모듈을 사용하여 다음과 같이 동작하도록 코드를 작성해 보자.\n",
        "\n",
        "1. ./doit 디렉터리로 이동한다.\n",
        "2. dir 명령을 실행하고 그 결과를 변수에 담는다.\n",
        "3. dir 명령의 결과를 출력한다."
      ]
    },
    {
      "cell_type": "code",
      "metadata": {
        "id": "XCnUj3obMr3v"
      },
      "source": [
        "# [Q10] Code\n",
        "import os\n",
        "os.chdir(\"C:/temp\")\n",
        "\n",
        "\n",
        "result = os.popen(\"dir\")\n",
        "\n",
        "print(result.read())"
      ],
      "execution_count": null,
      "outputs": []
    },
    {
      "cell_type": "markdown",
      "metadata": {
        "id": "zQoqgHiBaAeb"
      },
      "source": [
        "![101.png](data:image/png;base64,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)"
      ]
    },
    {
      "cell_type": "markdown",
      "metadata": {
        "id": "8xQf6xJ4K7M_"
      },
      "source": [
        "## Q11.\n",
        "> glob 모듈을 사용하여 ./doit 디렉터리의 파일 중 확장자가 .py인 파일만 출력하는 프로그램을 작성해 보자."
      ]
    },
    {
      "cell_type": "code",
      "metadata": {
        "id": "UCO7aRh5Msx6"
      },
      "source": [
        "# [Q11] Code\n",
        "import glob\n",
        "glob.glob(\"c:/doit/*.py\")"
      ],
      "execution_count": null,
      "outputs": []
    },
    {
      "cell_type": "markdown",
      "metadata": {
        "id": "QMKnjdQ6aZAf"
      },
      "source": [
        "![3333333.png](data:image/png;base64,iVBORw0KGgoAAAANSUhEUgAAAXIAAABPCAYAAAD2t07OAAAAAXNSR0IArs4c6QAAAARnQU1BAACxjwv8YQUAAAAJcEhZcwAADsMAAA7DAcdvqGQAAAnySURBVHhe7Z1d1uIqEABnJbMvt3JfXIhLcBW+uydvoCH8NSQh0QxaD3XOJ02gQVNBTGb+/P379wUAAOOCyAEABgeRAwAMDiIHABgcRA4AMDiIHABgcBA5AMDgIHIAgMFB5AAAg4PIAQAGZzCRX1/35/P1fNxeFzU+Lpfb4/U0YzPcr2qdksvr9ni+7lctBgC/AiLv5Hp/vh63ixrbgxU6IgeADfSL/HqvC6c3NhCIHAD+FXasyEUi+uq4N1anuvVgLww3afP5eN2ut9fDrdqlr6ns4lbylvvrOrcbl8sxPicv6rhfI8wkj5hV8s36szySOrrIa3l6kdfGBwC/wO6tFSO8mjx6Yy0K0RmRTwIzkg1tGrEZQbqLhhH8RerbOvZ4iYVVtavr2pa2wmvbr704hHa2rshD39Pri1xw8tV0KfJWnq3x+eMB4Ns5ZI9cVqlBJkfEahSiMyJ3K9Qg11TkiSxdfbkAZBcSK9e7/dsKMVqhxzEf3yZyWTWHXHJBC+r4qnlWxhflCQDfz4Ei11eCvbEah4jciC46bo5lIm+JervI3erZ5277Ki9irfHNZS2RZxccAPh+vmNrZavIp/pe6En/rsz8vSTqpbiGjDmgHa+Or5pnY3xxfQD4anaJ3IopXy3ujC2xT+SyvRHqxDKVuv51aMsfm2Lz2DIGt1JeunAV42vmmY8vHQMA/Ab9IjcCTYRzQKyKCCpezVpMOytEHh+TSk4kmbTnYksiL9peMSZ7AYv7m4iFnMdCm7U8l8YHAL/AIXvk/y4iumTr4Sy0FbnbJ0/qAQBsBJF/CvPNIRO53Uaxe91RPQCAjSDyD1JurSzvmQMALPHlIgcA+H4QOQDA4CByAIDBQeQAAIPzFSKXuz/cD4gr7ucW3vND6Ntzie6bn1+7R/39XTBH/4Dauqd++X77GHc/fOfDYAatv+t927/X001zrs3Y+PEazuGrVuT25DpZ5J635OLuO0+k9W6RLzyRepTIV7WT5WKOMXN2ud3t+P3r4rijWJhrW7bjIgXQS7/IzYe6Jqre2E6+W+RSp5BdLDcztweLxIyjJdhtIq+zph0tF3Oc/wZ0RB5NVsz1UfMBsIUdK3IRiy6O3liL7DF1S/pUpC7P7Li5Xy/POF5feaackEuvpM1xUZ+pZFx/1QuOiefbFu79U9usjc/Nhy+P+kvKY9S5y3NJRb7uomzyN+0oc23nSpn3qSxto8HCNxiAd7B7a0VOJP2D2xvTsPX9yW1PlvLELeUp0gmicRKydbyQghySPhqckYt5vXmlZyVUyi/QFrl2Marn1RpfOF5r07A0vlouZt63ba205lrmI24jxEJZG2l/OQ+A4zhkj9yeZBVh9MZS8hMsl4ZQnOzaCsutmNQTbtXq64xceuSg57UepU9ltTkLuDm+UFbMi2NuJysX2uPf9mNnZa6nbw/m7zQ/815vaVtojwXgeA4Uub5y6Y2lyMk317OCKE+wQhLuBE22I1ryVMRTckYu5UpxmZ5jIhr5VkVeHV8oK+bF0ZSf1nY3FZH7POMxmnIl1yVqYwR4F2NtrRjpO7STXpVn3sd80lZO6EkY8+sKn89FiS/Sc0zAjLEY15LIq+MLZT0ib8W2s36uTb8983dsvgDL7BK5+cDWVkq9MRVFIBqlJGRVGk4qOUnldX5CxzFXZvvNcj0plx452ByauUpOhVirY0xX+dK+z6s1vtBGTeS2XPtMrJxvFe39K+Y6z3vCiv3xemz5jM7k7QO8n36Rmw+7ckLuijWw8jcnZYScfHLi5LHQh5NVUV4el0tHF8FJuZh56xCal63erssnez9qsrXYPFx7Ux1TN7S5fnxpXKnjYs1clmiIPM6jmGtN7mvZc+EB6OSQPfK3o50ctuyE/5ThtFxEQF1y2YSR2PYf+N7DO3KReWyvmPv77fnmBLCXMUSurEZlpZnuv36EM3NxF4x/Q7Kjsixy+42r41uA/Rx0bccA7GMMkU+U2xnnfX09NRdzIUEWO6iLfH5fu+bXrOLP+0zCbzOMyAEAQAeRAwAMDiIHABgcRA4AMDi7RJ786Ff8QOTu1+29B3gB03ftNq9WrETuGd7yA9dxff8atc+Eew8cPEwDsI3dIq9L640i1+7ljjhK5NV2TP818bdiP8/SZ6J+RwkA1Hm7yN+xOk2fJiw5alVcb6clHGRUZ+kzwdwB9PBGkTeIH/OeSNtwK+Tqqs3E84diRAB6m+nX9njlLQ/yuPKov6Q8Js6pdT+3FjNl95vLc8r/ar5VTH9P9WQ+sm8YrkxeZ+OL2vbvQZxzEGE2dstjRX81TB5m7uN2XTvdbcYgcoAePi9ye3K3nk5si9wKK4uZPOKykJeIIeTohJgdr7VpaI9Pu6A0YnbcIimbr5We1PNjjgUWj8n/xwkSS8ckbcV1p7GYi0PWhmxH+T7K/mpzkOLmLxpb6KM9hnUgcoAePizyXKxbUU50Zb98zktbJbr68+uJPpG35VfETC5uJR3a9SLP60t57WIX17WyjFf/8/hysaZzn/ZnYq2Lq0eZfzcu8/eWMego7QPAIh8Weblq20Qkw7lsSeSV+vPriUK6jsXxKX1XYwsiT+qbunE+NmZWwhGRyPUcRYpzO7aNSKxxf+bvfJ5UKiL389kawyoQOUAPp6zIe09Utb9YHo65npNMHEvE4+gW+USrThIz/bZEHs2NiYc5kotf3Ee+Im/1H8s/rRf6M+3V2kipiHwaVx5Px7CWfZ8PgF/l43vkVkK5XBNEXIVYFWEL6Spf2o9FGecooshzroncli+tVCNBN2OLIvd18v/QIB2fzEOYn+p7UJ2vgAj8Os2JUs/3k+SSizaf3wl1DGtB5AA9fP7HzgkvW32lKHLIxVqTrcXIw7c31RFB+TZde1FcykUac3kRV+qo/bfkE8XWiFwT40Q6X/fXLZqL1ntgYuE4Yc1cWxoir7dn0MewjtZcAkCNU0S+HRHeth/OPoiT9OZYwYHj1Fbktiy+cGxljWj3jAGRA/QwiMh/A7uCVlf9HdhvKanIZWWf/j6wjWXR7hsDIgfoYbfI56/ZXXuiYJjn8eA5TN4fS3vPfJm6aPeNwW3xOBA5wDZ2iRwAAM4HkQMADM4QIg9bAyVafQCAXwKRAwAMDiIHABgcRA4AMDj9Ijf3KdfuF+6NVdAE7tHqAwD8EjtW5HJPsX7fcG9MRxO4R6sPAPBL7N5akQdB9AdNemM5msA9Wn0AgF/ikD1yefRb//c1emMxmsA9Wn0AgF/iQJFPYlX2vntjMV7aGlp9AIBfgq0VAIDB2SVyK+PKj5a9MQ1N4B6tPgDAL9Evcm4/BAD4Jzhkj/zdaAL3aPUBAH4JRA4AMDiIHABgcBA5AMDgIHIAgMEZQuQAAFAHkQMADM6fP/89XwAAMCrP1/8tpMe16otTJgAAAABJRU5ErkJggg==)"
      ]
    },
    {
      "cell_type": "markdown",
      "metadata": {
        "id": "Q6QYCZ9HM3DW"
      },
      "source": [
        "## Q12.\n",
        "> time 모듈을 사용하여 현재 날짜와 시간을 다음과 같은 형식으로 출력해 보자.\n",
        "\n",
        "- 2018/04/03 17:20:32"
      ]
    },
    {
      "cell_type": "code",
      "metadata": {
        "id": "80vm6aSMM3gf",
        "colab": {
          "base_uri": "https://localhost:8080/",
          "height": 35
        },
        "outputId": "199cfd51-acb1-4a3a-9a7d-b5e66ed55cb3"
      },
      "source": [
        "# [Q12] Code\n",
        "import time\n",
        "\n",
        "time.strftime(\"%Y/%m/%d %H:%M:%S\")\n",
        "# %Y 년도 출력\n",
        "# %m 월 출력\n",
        "# %d 일 출력\n",
        "# %H 시간 출력\n",
        "# %M 분 출력\n",
        "# %S 초 출력\n"
      ],
      "execution_count": null,
      "outputs": [
        {
          "output_type": "execute_result",
          "data": {
            "application/vnd.google.colaboratory.intrinsic+json": {
              "type": "string"
            },
            "text/plain": [
              "'2021/06/05 07:59:16'"
            ]
          },
          "metadata": {
            "tags": []
          },
          "execution_count": 14
        }
      ]
    },
    {
      "cell_type": "markdown",
      "metadata": {
        "id": "x2IYgozSM3gd"
      },
      "source": [
        "## Q13.\n",
        "> random 모듈을 사용하여 로또 번호(1~45 사이의 숫자 6개)를 생성해 보자(단 중복된 숫자가 있으면 안 됨)."
      ]
    },
    {
      "cell_type": "code",
      "metadata": {
        "id": "FiKNOu9HM3DX",
        "colab": {
          "base_uri": "https://localhost:8080/"
        },
        "outputId": "d60d7fb6-5b69-45ae-beb1-7fc8b1317c2e"
      },
      "source": [
        "# [Q13] Code\n",
        "import random\n",
        "lotto = []                         # lotto 리스트 생성\n",
        "\n",
        "while len(lotto) < 6:              # len(lotto)가 6 보다 작으면 반복\n",
        "   numbers = random.randint(1, 45) # 1~45의 숫자중 하나를 반환\n",
        "   if numbers not in lotto:        # 반환한 숫자가 리스트 lotto에 포함되지 않을 경우\n",
        "       lotto.append(numbers)       # 반환한 숫자를 리스트 lotto에 추가\n",
        "       print(numbers, end=' ')     # 반환한 숫자 출력\n"
      ],
      "execution_count": null,
      "outputs": [
        {
          "output_type": "stream",
          "text": [
            "12 10 6 4 42 31 "
          ],
          "name": "stdout"
        }
      ]
    },
    {
      "cell_type": "code",
      "metadata": {
        "colab": {
          "base_uri": "https://localhost:8080/"
        },
        "id": "gnQqoOG0LyUK",
        "outputId": "541b70ba-dbe4-45ed-d9ee-95b35bc304e7"
      },
      "source": [
        "import random\n",
        "def random_pop(data):\n",
        "    number = random.randint(0, len(data)-1)  # 0에서 len(data)-1 까지의 숫자중 하나 반환\n",
        "    return data.pop(number)                  # 반환된 숫자 위치에있는 data리스트의 숫자를 꺼내서 반환\n",
        "count = 0                                    # count 초기화\n",
        "\n",
        "if __name__ == \"__main__\":\n",
        "    data = list(range(1,46))                 # data에 1부터45까지의 숫자 리스트 생성\n",
        "    while count < 6:                         # 6번 반복\n",
        "       count += 1\n",
        "       print(random_pop(data), end=\" \")      # 반환된 숫자 출력"
      ],
      "execution_count": null,
      "outputs": [
        {
          "output_type": "stream",
          "text": [
            "25 26 13 5 15 40 "
          ],
          "name": "stdout"
        }
      ]
    },
    {
      "cell_type": "code",
      "metadata": {
        "colab": {
          "base_uri": "https://localhost:8080/"
        },
        "id": "7Twrg86yL07Z",
        "outputId": "3868fa5e-e7c4-4e76-ad92-ff0937855fef"
      },
      "source": [
        "def random_pop(data):\n",
        "    number = random.choice(data)  # data리스트중 랜덤한 숫자 반환\n",
        "    data.remove(number)           # 위의 반환된 number을 data리스트에서 제거\n",
        "    return number                 # number 반환\n",
        "count = 0                         # count 초기화\n",
        "\n",
        "if __name__ == \"__main__\":\n",
        "    data = list(range(1,46))      # data에 1부터45까지의 숫자 리스트 생성\n",
        "    while count < 6:              # 6번 반복\n",
        "       count += 1\n",
        "       print(random_pop(data), end=\" \") # 반환된 숫자 출력"
      ],
      "execution_count": null,
      "outputs": [
        {
          "output_type": "stream",
          "text": [
            "9 16 14 44 33 20 "
          ],
          "name": "stdout"
        }
      ]
    },
    {
      "cell_type": "markdown",
      "metadata": {
        "id": "2ljBDShkbqZO"
      },
      "source": [
        "## 코딩 연습 결과를 github에 올리기\n",
        "> 완성된 ipython 노트북 파일을 각자의 github에 올리시오.\n",
        "\n",
        "- github 계정 만들기 (계정이 없는 학생)\n",
        "    1. github에 sign up (Google gmail 계정을 이용해서 만드시오.)\n",
        "- github에 노트 올리기\n",
        "    2. github에 각자의 id로 repo를 만드시오. (한번 만들면 계속 재사용)\n",
        "    3. github repo에 연습결과 노트를 올리시오.\n",
        "        - 제출노트: ch5_exercises_id.ipynb\n"
      ]
    },
    {
      "cell_type": "code",
      "metadata": {
        "id": "OnCR-YNCc8B6"
      },
      "source": [
        ""
      ],
      "execution_count": null,
      "outputs": []
    }
  ]
}