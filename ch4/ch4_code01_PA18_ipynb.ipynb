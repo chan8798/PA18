{
  "nbformat": 4,
  "nbformat_minor": 0,
  "metadata": {
    "colab": {
      "name": "ch4_code01.PA18 ipynb",
      "provenance": [],
      "collapsed_sections": [],
      "include_colab_link": true
    },
    "kernelspec": {
      "display_name": "Python 3",
      "language": "python",
      "name": "python3"
    },
    "language_info": {
      "codemirror_mode": {
        "name": "ipython",
        "version": 3
      },
      "file_extension": ".py",
      "mimetype": "text/x-python",
      "name": "python",
      "nbconvert_exporter": "python",
      "pygments_lexer": "ipython3",
      "version": "3.7.5"
    }
  },
  "cells": [
    {
      "cell_type": "markdown",
      "metadata": {
        "id": "view-in-github",
        "colab_type": "text"
      },
      "source": [
        "<a href=\"https://colab.research.google.com/github/chan8798/PA18/blob/main/ch4/ch4_code01_PA18_ipynb.ipynb\" target=\"_parent\"><img src=\"https://colab.research.google.com/assets/colab-badge.svg\" alt=\"Open In Colab\"/></a>"
      ]
    },
    {
      "cell_type": "markdown",
      "metadata": {
        "id": "H4jNE-BMAK3f"
      },
      "source": [
        "# ch4_code01.ipynb\n",
        "## PA18\n",
        "- 파이썬 함수\n",
        "    - 입력값을 가지고 어떤 일을 수행한 다음에 그 결과물을 출력\n",
        "        - 반복되는 부분을 함수로 전환.\n",
        "        - 코딩을 모듈화\n",
        "- 매개변수와 인수\n",
        "- 입력값과 결괏값\n",
        "    - return\n",
        "    - 여러 개의 입력을 처리하는 함수(*args)\n",
        "    - 키워드 파라미터 (kwargs)\n",
        "    - 매개변수에 초깃값 미리 설정\n",
        "- lambda 함수 정의"
      ]
    },
    {
      "cell_type": "code",
      "metadata": {
        "id": "hXPcvn1CtW6z",
        "colab": {
          "base_uri": "https://localhost:8080/"
        },
        "outputId": "09ed8f70-2660-4170-ee9d-0e8c944708d1"
      },
      "source": [
        "# ch4_01_function.py\n",
        "#\n",
        "print(\"함수란 무엇인가?\")\n",
        "#######################################\n",
        "# 입력값을 가지고 어떤 일을 수행한 다음에 \n",
        "# 그 결과물을 내어놓는 것\n",
        "#######################################\n",
        "print(\"==>> \",\"입력값을 가지고 어떤 일을 수행한 다음에 그결과물을 내어놓는 것\")\n",
        "print(\"함수를 사용하는 이유는 무엇일까?\")\n",
        "#######################################\n",
        "# 반복되는 부분을 함수로 전환.\n",
        "# 코딩을 모듈화\n",
        "#######################################\n",
        "\n",
        "\n",
        "print(\"파이썬 함수의 구조\")\n",
        "#######################################"
      ],
      "execution_count": null,
      "outputs": [
        {
          "output_type": "stream",
          "text": [
            "함수란 무엇인가?\n",
            "==>>  입력값을 가지고 어떤 일을 수행한 다음에 그결과물을 내어놓는 것\n",
            "함수를 사용하는 이유는 무엇일까?\n",
            "파이썬 함수의 구조\n"
          ],
          "name": "stdout"
        }
      ]
    },
    {
      "cell_type": "code",
      "metadata": {
        "colab": {
          "base_uri": "https://localhost:8080/",
          "height": 35
        },
        "id": "UQKW3MywHhn8",
        "outputId": "d6f01577-0973-4f82-8a12-e88fd8a0e24a"
      },
      "source": [
        "\n",
        "\"\"\"\n",
        "def 함수명(매개변수):\n",
        "    <수행할 문장1>\n",
        "    <수행할 문장2>\n",
        "    ...\n",
        "\"\"\""
      ],
      "execution_count": null,
      "outputs": [
        {
          "output_type": "execute_result",
          "data": {
            "application/vnd.google.colaboratory.intrinsic+json": {
              "type": "string"
            },
            "text/plain": [
              "'\\ndef 함수명(매개변수):\\n    <수행할 문장1>\\n    <수행할 문장2>\\n    ...\\n'"
            ]
          },
          "metadata": {
            "tags": []
          },
          "execution_count": 2
        }
      ]
    },
    {
      "cell_type": "code",
      "metadata": {
        "id": "HRQzJ4s-IqKB"
      },
      "source": [
        "def add(a):\n",
        "  print(a)\n",
        "\n",
        "  "
      ],
      "execution_count": null,
      "outputs": []
    },
    {
      "cell_type": "code",
      "metadata": {
        "colab": {
          "base_uri": "https://localhost:8080/"
        },
        "id": "jQ8h7PI8I0bf",
        "outputId": "126c58a4-ecb0-49af-f6bc-e970e9eba108"
      },
      "source": [
        "add(100)\n",
        "add(\"PA18\")"
      ],
      "execution_count": null,
      "outputs": [
        {
          "output_type": "stream",
          "text": [
            "100\n",
            "PA18\n"
          ],
          "name": "stdout"
        }
      ]
    },
    {
      "cell_type": "code",
      "metadata": {
        "id": "T8hZSEdmITb9"
      },
      "source": [
        "\n",
        "#######################################\n",
        "# add() 함수를 정의\n",
        "def add(a, b): \n",
        "    return a + b\n"
      ],
      "execution_count": null,
      "outputs": []
    },
    {
      "cell_type": "code",
      "metadata": {
        "colab": {
          "base_uri": "https://localhost:8080/"
        },
        "id": "GXL7rpQOJf5d",
        "outputId": "a2cbb0cf-4a50-4e7c-d15c-5d28ec2647c7"
      },
      "source": [
        "\n",
        "\n",
        "# add() 함수를 사용\n",
        "a=3\n",
        "b=4\n",
        "c=add(a,b)\n",
        "print(c)\n",
        "d=add(3,4)\n",
        "print(d)\n",
        "x=[1,2,3]\n",
        "y=[4,5,6]\n",
        "z=x+y\n",
        "print(z)\n",
        "#\n"
      ],
      "execution_count": null,
      "outputs": [
        {
          "output_type": "stream",
          "text": [
            "7\n",
            "7\n",
            "[1, 2, 3, 4, 5, 6]\n"
          ],
          "name": "stdout"
        }
      ]
    },
    {
      "cell_type": "code",
      "metadata": {
        "colab": {
          "base_uri": "https://localhost:8080/"
        },
        "id": "4udlXhGvKXN8",
        "outputId": "183996d1-78a6-461f-cfa9-40ea75f103f5"
      },
      "source": [
        "z=add(x,y)\n",
        "print(z)"
      ],
      "execution_count": null,
      "outputs": [
        {
          "output_type": "stream",
          "text": [
            "[1, 2, 3, 4, 5, 6]\n"
          ],
          "name": "stdout"
        }
      ]
    },
    {
      "cell_type": "code",
      "metadata": {
        "colab": {
          "base_uri": "https://localhost:8080/"
        },
        "id": "-59b9ElfKsvk",
        "outputId": "6ad3eb0f-160e-4647-d0af-0c496d635be3"
      },
      "source": [
        "w=add(\"Hello\",\"python!\")\n",
        "print(w)"
      ],
      "execution_count": null,
      "outputs": [
        {
          "output_type": "stream",
          "text": [
            "Hellopython!\n"
          ],
          "name": "stdout"
        }
      ]
    },
    {
      "cell_type": "markdown",
      "metadata": {
        "id": "__tG-qupLFsn"
      },
      "source": [
        "###매개변수와 인수"
      ]
    },
    {
      "cell_type": "code",
      "metadata": {
        "id": "gyFtQgyMInZR"
      },
      "source": [
        "\n",
        "print(\"매개변수와 인수의 차이를 이해하자!\")\n",
        "#######################################\n",
        "# 매개변수는 함수에 입력으로 전달된 값을 받는 변수\n",
        "# 인수는 함수를 호출할 때 전달하는 입력값을 의미\n",
        "#######################################\n",
        "# add() 함수에서의 매개변수와 인수\n",
        "\"\"\"\n",
        "def add(a, b):  # a, b는 매개변수\n",
        "    return a+b\n",
        "print(add(3, 4))  # 3, 4는 인수\n",
        "\"\"\"\n"
      ],
      "execution_count": null,
      "outputs": []
    },
    {
      "cell_type": "code",
      "metadata": {
        "colab": {
          "base_uri": "https://localhost:8080/"
        },
        "id": "zV0ZnclaLVRA",
        "outputId": "0932e0ae-14df-4d37-f269-657879ce5e6a"
      },
      "source": [
        "print(add(a,b))\n",
        "print(add(3,4))"
      ],
      "execution_count": null,
      "outputs": [
        {
          "output_type": "stream",
          "text": [
            "7\n",
            "7\n"
          ],
          "name": "stdout"
        }
      ]
    },
    {
      "cell_type": "markdown",
      "metadata": {
        "id": "JwlwKCi7Lq54"
      },
      "source": [
        "### 함수의 결괏값 (return...)"
      ]
    },
    {
      "cell_type": "code",
      "metadata": {
        "colab": {
          "base_uri": "https://localhost:8080/"
        },
        "id": "1fHpjdXULTM-",
        "outputId": "80cdf24c-af68-44e3-90fe-52457c1223f8"
      },
      "source": [
        "\n",
        "print(\"입력값과 결괏값에 따른 함수의 형태\")\n",
        "#######################################\n",
        "# 입력값 ---> 함수 ----> 결괏값\n",
        "#######################################\n",
        "# 일반적인 함수\n",
        "# 입력값과 결괏값이 있는 함수\n",
        "\"\"\"\n",
        "def 함수이름(매개변수):\n",
        "    <수행할 문장>\n",
        "    ...\n",
        "    return 결과값\n",
        "\"\"\"\n",
        "\n",
        "def add2(a, b): \n",
        "    result = a + b \n",
        "    return result\n",
        "\n",
        "\n",
        "# 입력값과 결괏값이 있는 함수의 사용법\n",
        "# 결괏값을 받을 변수 = 함수이름(입력인수1, 입력인수2, ...)\n",
        "a = add2(3, 4)\n",
        "print(a)\n"
      ],
      "execution_count": null,
      "outputs": [
        {
          "output_type": "stream",
          "text": [
            "입력값과 결괏값에 따른 함수의 형태\n",
            "7\n"
          ],
          "name": "stdout"
        }
      ]
    },
    {
      "cell_type": "code",
      "metadata": {
        "colab": {
          "base_uri": "https://localhost:8080/"
        },
        "id": "DDZ7EtyIMAi3",
        "outputId": "394fc296-e406-4dc5-a842-b87166e68af0"
      },
      "source": [
        "\n",
        "#######################################\n",
        "# 입력값이 없는 함수\n",
        "\n",
        "def say(): \n",
        "    return 'Hi'\n",
        "\n",
        "\n",
        "# 입력값이 없는 함수의 사용법\n",
        "# 결괏값을 받을 변수 = 함수이름()\n",
        "a = say()\n",
        "print(a)\n"
      ],
      "execution_count": null,
      "outputs": [
        {
          "output_type": "stream",
          "text": [
            "Hi\n"
          ],
          "name": "stdout"
        }
      ]
    },
    {
      "cell_type": "code",
      "metadata": {
        "colab": {
          "base_uri": "https://localhost:8080/"
        },
        "id": "lZzPoKamMpMb",
        "outputId": "296fe9df-b5c5-4930-eb9f-ea859b929769"
      },
      "source": [
        "\n",
        "\n",
        "#######################################\n",
        "# 결괏값이 없는 함수\n",
        "\n",
        "def add3(a, b): \n",
        "    print(\"%d, %d의 합은 %d입니다.\" % (a, b, a+b))\n",
        "\n",
        "\n",
        "# 결괏값이 없는 함수의 사용법\n",
        "# 함수이름(입력인수1, 입력인수2, ...)\n",
        "add3(3, 4)\n",
        "\n",
        "# 다음 결과는 무엇인가?\n",
        "a = add3(3, 4)\n",
        "print(a)\n",
        "# \n"
      ],
      "execution_count": null,
      "outputs": [
        {
          "output_type": "stream",
          "text": [
            "3, 4의 합은 7입니다.\n",
            "3, 4의 합은 7입니다.\n",
            "None\n"
          ],
          "name": "stdout"
        }
      ]
    },
    {
      "cell_type": "code",
      "metadata": {
        "colab": {
          "base_uri": "https://localhost:8080/",
          "height": 35
        },
        "id": "lShZnOXIM-wF",
        "outputId": "6e1eafd3-d8b4-4241-a560-12709b471cf7"
      },
      "source": [
        "\n",
        "#######################################\n",
        "# 입력값도 결괏값도 없는 함수\n",
        "\n",
        "def say2(): \n",
        "    print('Hi')\n",
        "\n",
        "\n",
        "# 입력값도 결괏값도 없는 함수의 사용법\n",
        "# 함수이름()\n",
        "say()\n"
      ],
      "execution_count": null,
      "outputs": [
        {
          "output_type": "execute_result",
          "data": {
            "application/vnd.google.colaboratory.intrinsic+json": {
              "type": "string"
            },
            "text/plain": [
              "'Hi'"
            ]
          },
          "metadata": {
            "tags": []
          },
          "execution_count": 21
        }
      ]
    },
    {
      "cell_type": "code",
      "metadata": {
        "colab": {
          "base_uri": "https://localhost:8080/"
        },
        "id": "t7tXwT3iNgXD",
        "outputId": "d03efb0a-693d-4af5-9b69-540d8e13bab7"
      },
      "source": [
        "\n",
        "#######################################\n",
        "print(\"매개변수의 값을 지정하여 호출하기\")\n",
        "#######################################\n",
        "def add4(a, b):\n",
        "    return a+b\n",
        "\n",
        "\n",
        "result = add4(a=3, b=7)  # a에 3, b에 7을 전달\n",
        "print(result)\n",
        "# 매개변수의 순서에 상관없이 사용\n",
        "result2 = add4(b=5, a=3)  # b에 5, a에 3을 전달\n",
        "print(result2)\n",
        "#######################################"
      ],
      "execution_count": null,
      "outputs": [
        {
          "output_type": "stream",
          "text": [
            "매개변수의 값을 지정하여 호출하기\n",
            "10\n",
            "8\n"
          ],
          "name": "stdout"
        }
      ]
    },
    {
      "cell_type": "code",
      "metadata": {
        "colab": {
          "base_uri": "https://localhost:8080/",
          "height": 190
        },
        "id": "ULlZgmEAN79c",
        "outputId": "7642f5cf-8df0-474d-80fb-cfacbe94fe11"
      },
      "source": [
        "resuit3=add4(3,7)\n",
        "print(result3)"
      ],
      "execution_count": null,
      "outputs": [
        {
          "output_type": "error",
          "ename": "NameError",
          "evalue": "ignored",
          "traceback": [
            "\u001b[0;31m---------------------------------------------------------------------------\u001b[0m",
            "\u001b[0;31mNameError\u001b[0m                                 Traceback (most recent call last)",
            "\u001b[0;32m<ipython-input-26-599feea34e19>\u001b[0m in \u001b[0;36m<module>\u001b[0;34m()\u001b[0m\n\u001b[1;32m      1\u001b[0m \u001b[0mresuit3\u001b[0m\u001b[0;34m=\u001b[0m\u001b[0madd4\u001b[0m\u001b[0;34m(\u001b[0m\u001b[0;36m3\u001b[0m\u001b[0;34m,\u001b[0m\u001b[0;36m7\u001b[0m\u001b[0;34m)\u001b[0m\u001b[0;34m\u001b[0m\u001b[0;34m\u001b[0m\u001b[0m\n\u001b[0;32m----> 2\u001b[0;31m \u001b[0mprint\u001b[0m\u001b[0;34m(\u001b[0m\u001b[0mresult3\u001b[0m\u001b[0;34m)\u001b[0m\u001b[0;34m\u001b[0m\u001b[0;34m\u001b[0m\u001b[0m\n\u001b[0m",
            "\u001b[0;31mNameError\u001b[0m: name 'result3' is not defined"
          ]
        }
      ]
    },
    {
      "cell_type": "code",
      "metadata": {
        "colab": {
          "base_uri": "https://localhost:8080/",
          "height": 190
        },
        "id": "F1B6tG7FOPd7",
        "outputId": "970612a3-2f8c-40c8-cb15-0e1e0b6bf79f"
      },
      "source": [
        "result3=add4(7,a=3)\n",
        "print(result3)"
      ],
      "execution_count": null,
      "outputs": [
        {
          "output_type": "error",
          "ename": "TypeError",
          "evalue": "ignored",
          "traceback": [
            "\u001b[0;31m---------------------------------------------------------------------------\u001b[0m",
            "\u001b[0;31mTypeError\u001b[0m                                 Traceback (most recent call last)",
            "\u001b[0;32m<ipython-input-27-5fb87fccd163>\u001b[0m in \u001b[0;36m<module>\u001b[0;34m()\u001b[0m\n\u001b[0;32m----> 1\u001b[0;31m \u001b[0mresult3\u001b[0m\u001b[0;34m=\u001b[0m\u001b[0madd4\u001b[0m\u001b[0;34m(\u001b[0m\u001b[0;36m7\u001b[0m\u001b[0;34m,\u001b[0m\u001b[0ma\u001b[0m\u001b[0;34m=\u001b[0m\u001b[0;36m3\u001b[0m\u001b[0;34m)\u001b[0m\u001b[0;34m\u001b[0m\u001b[0;34m\u001b[0m\u001b[0m\n\u001b[0m\u001b[1;32m      2\u001b[0m \u001b[0mprint\u001b[0m\u001b[0;34m(\u001b[0m\u001b[0mresult3\u001b[0m\u001b[0;34m)\u001b[0m\u001b[0;34m\u001b[0m\u001b[0;34m\u001b[0m\u001b[0m\n",
            "\u001b[0;31mTypeError\u001b[0m: add4() got multiple values for argument 'a'"
          ]
        }
      ]
    },
    {
      "cell_type": "code",
      "metadata": {
        "colab": {
          "base_uri": "https://localhost:8080/"
        },
        "id": "vUCLnKELOhPT",
        "outputId": "95037588-1ada-450a-f09d-002537d1e890"
      },
      "source": [
        "result3=add4(b=7, a=3)\n",
        "print(result3)"
      ],
      "execution_count": null,
      "outputs": [
        {
          "output_type": "stream",
          "text": [
            "10\n"
          ],
          "name": "stdout"
        }
      ]
    },
    {
      "cell_type": "markdown",
      "metadata": {
        "id": "C_gC3ct60Xpf"
      },
      "source": [
        "### *args \n",
        "-arg:argument"
      ]
    },
    {
      "cell_type": "code",
      "metadata": {
        "id": "sXapInYRNmEX",
        "colab": {
          "base_uri": "https://localhost:8080/"
        },
        "outputId": "6f3e8692-1933-4a26-8a8c-3c82470dc6ef"
      },
      "source": [
        "\n",
        "\n",
        "#######################################\n",
        "print(\"입력값이 몇 개가 될지 모를 때는 어떻게 해야 할까?\")\n",
        "#######################################\n",
        "\"\"\"\n",
        "def 함수이름(*매개변수): \n",
        "    <수행할 문장>\n",
        "    ...\n",
        "\"\"\"\n",
        "\n",
        "def add_many(*args):\n",
        "    result = 0 \n",
        "    for i in args: \n",
        "        result = result + i \n",
        "    return result \n"
      ],
      "execution_count": null,
      "outputs": [
        {
          "output_type": "stream",
          "text": [
            "입력값이 몇 개가 될지 모를 때는 어떻게 해야 할까?\n"
          ],
          "name": "stdout"
        }
      ]
    },
    {
      "cell_type": "code",
      "metadata": {
        "colab": {
          "base_uri": "https://localhost:8080/"
        },
        "id": "QSHv7Biy1ZOZ",
        "outputId": "29ecfcf3-686a-4fbd-d81e-19967a156fca"
      },
      "source": [
        "add_many(1,2,3)"
      ],
      "execution_count": null,
      "outputs": [
        {
          "output_type": "execute_result",
          "data": {
            "text/plain": [
              "6"
            ]
          },
          "metadata": {
            "tags": []
          },
          "execution_count": 4
        }
      ]
    },
    {
      "cell_type": "code",
      "metadata": {
        "colab": {
          "base_uri": "https://localhost:8080/"
        },
        "id": "PcQg24lf0sx4",
        "outputId": "e650b829-eb0a-4b34-c5e4-3ecf485256a6"
      },
      "source": [
        "\n",
        "\n",
        "add_many(1, 2, 3)\n",
        "add_many(1, 2, 3, 4, 5, 6, 7, 8, 9)\n",
        "\n",
        "#result = add_many(1,2,3,4,5,6,7,8,9,10)\n",
        "#print(result)\n"
      ],
      "execution_count": null,
      "outputs": [
        {
          "output_type": "execute_result",
          "data": {
            "text/plain": [
              "45"
            ]
          },
          "metadata": {
            "tags": []
          },
          "execution_count": 3
        }
      ]
    },
    {
      "cell_type": "code",
      "metadata": {
        "colab": {
          "base_uri": "https://localhost:8080/"
        },
        "id": "LtVSXWBG1L3i",
        "outputId": "6ea4eedf-2df7-4ead-991b-7332abd6577d"
      },
      "source": [
        "\n",
        "\n",
        "#######################################\n",
        "print(\"여러 개의 입력을 처리하는 함수(*args)\")\n",
        "#######################################\n",
        "\n",
        "def add_mul(choice, *args):\n",
        "    if choice == \"add\":\n",
        "        result = 0 \n",
        "        for i in args:\n",
        "            result = result + i \n",
        "    elif choice == \"mul\":\n",
        "        result = 1 \n",
        "        for i in args: \n",
        "            result = result * i \n",
        "    return result \n",
        "\n",
        "# add\n",
        "result = add_mul('add', 1,2,3,4,5)\n",
        "print(result)\n",
        "# multiply\n",
        "result = add_mul('mul', 1,2,3,4,5)\n",
        "print(result)\n"
      ],
      "execution_count": null,
      "outputs": [
        {
          "output_type": "stream",
          "text": [
            "여러 개의 입력을 처리하는 함수(*args)\n",
            "15\n",
            "120\n"
          ],
          "name": "stdout"
        }
      ]
    },
    {
      "cell_type": "markdown",
      "metadata": {
        "id": "aNncvujq3Hb_"
      },
      "source": [
        "키워드 파라미터 kwargs"
      ]
    },
    {
      "cell_type": "code",
      "metadata": {
        "colab": {
          "base_uri": "https://localhost:8080/"
        },
        "id": "Tw4HA4Ab2Rv9",
        "outputId": "52ef506f-8465-47d3-d153-b9717c0f5e6b"
      },
      "source": [
        "\n",
        "#\n",
        "#######################################\n",
        "print(\"키워드 파라미터 kwargs\")\n",
        "#######################################\n",
        "\n",
        "def print_kwargs(**kwargs):\n",
        "    print(kwargs)\n",
        "\n",
        "\n",
        "# print_kwargs 함수는 매개변수 kwargs를 출력하는 함수\n",
        "#\n",
        "print_kwargs(a=1)\n",
        "\n",
        "print_kwargs(name='foo', age=3)\n",
        "\n",
        "#\n",
        "# **kwargs처럼 매개변수 이름 앞에 **을 붙이면 매개변수 \n",
        "# kwargs는 딕셔너리가 되고 모든 key=value 형태의 결괏값이 \n",
        "# 그 딕셔너리에 저장된다.\n",
        "#\n"
      ],
      "execution_count": null,
      "outputs": [
        {
          "output_type": "stream",
          "text": [
            "키워드 파라미터 kwargs\n",
            "{'a': 1}\n",
            "{'name': 'foo', 'age': 3}\n"
          ],
          "name": "stdout"
        }
      ]
    },
    {
      "cell_type": "code",
      "metadata": {
        "colab": {
          "base_uri": "https://localhost:8080/"
        },
        "id": "mDH4VLd63Rfc",
        "outputId": "870b99c4-e250-4e76-9f97-cc563a010f9d"
      },
      "source": [
        "#######################################\n",
        "print(\"함수의 결괏값은 언제나 하나\")\n",
        "#######################################\n",
        "#\n",
        "def add_and_mul(a,b): \n",
        "    return a+b, a*b\n",
        "\n",
        "#1,2==(1,2)\n",
        "# add_and_mul() 사용 1.\n",
        "result = add_and_mul(3,4)\n",
        "\n",
        "print(result)"
      ],
      "execution_count": null,
      "outputs": [
        {
          "output_type": "stream",
          "text": [
            "함수의 결괏값은 언제나 하나\n",
            "(7, 12)\n"
          ],
          "name": "stdout"
        }
      ]
    },
    {
      "cell_type": "code",
      "metadata": {
        "colab": {
          "base_uri": "https://localhost:8080/"
        },
        "id": "q3BHZo-y4KMj",
        "outputId": "1cd22f7d-8bee-459b-bca2-f805ff8bdb83"
      },
      "source": [
        "# add_and_mul() 사용 2.\n",
        "result1, result2 = add_and_mul(3, 4)\n",
        "\n",
        "result1, result2\n"
      ],
      "execution_count": null,
      "outputs": [
        {
          "output_type": "execute_result",
          "data": {
            "text/plain": [
              "(7, 12)"
            ]
          },
          "metadata": {
            "tags": []
          },
          "execution_count": 9
        }
      ]
    },
    {
      "cell_type": "markdown",
      "metadata": {
        "id": "TU3OTOGI5Oo-"
      },
      "source": [
        "###잘못된 함수 사용"
      ]
    },
    {
      "cell_type": "code",
      "metadata": {
        "colab": {
          "base_uri": "https://localhost:8080/"
        },
        "id": "NnZtaLGK4xlg",
        "outputId": "954596aa-481e-406c-898e-8fd4fb66c98d"
      },
      "source": [
        "#######################################\n",
        "print(\"잘못된 함수\")\n",
        "#######################################\n",
        "def add_and_mul2(a,b): \n",
        "    return a+b \n",
        "    return a*b  # Not working!!\n",
        "\n",
        "\n",
        "result = add_and_mul2(2, 3)\n",
        "print(result)"
      ],
      "execution_count": null,
      "outputs": [
        {
          "output_type": "stream",
          "text": [
            "잘못된 함수\n",
            "5\n"
          ],
          "name": "stdout"
        }
      ]
    },
    {
      "cell_type": "markdown",
      "metadata": {
        "id": "cqSelxsp5de2"
      },
      "source": [
        "### return 의 용도\n",
        "\n",
        "\n"
      ]
    },
    {
      "cell_type": "code",
      "metadata": {
        "colab": {
          "base_uri": "https://localhost:8080/"
        },
        "id": "Gmjw1nwU5Cxf",
        "outputId": "4d80f90d-8156-49e3-8430-e8fe1f2ef868"
      },
      "source": [
        "\n",
        "\n",
        "#######################################\n",
        "print(\"return 의 용도: 함수 실행 종료\")\n",
        "#######################################\n",
        "def say_nick(nick): \n",
        "    if nick == \"바보\": \n",
        "        return \n",
        "    print(\"나의 별명은 %s 입니다.\" % nick)\n",
        "\n",
        "\n",
        "say_nick(\"홍길동\")\n",
        "say_nick(\"바보\")"
      ],
      "execution_count": null,
      "outputs": [
        {
          "output_type": "stream",
          "text": [
            "return 의 용도: 함수 실행 종료\n",
            "나의 별명은 홍길동 입니다.\n"
          ],
          "name": "stdout"
        }
      ]
    },
    {
      "cell_type": "markdown",
      "metadata": {
        "id": "bevp2PZ16H8B"
      },
      "source": [
        "### 매개변수에 초깃값 미리 설정"
      ]
    },
    {
      "cell_type": "code",
      "metadata": {
        "colab": {
          "base_uri": "https://localhost:8080/"
        },
        "id": "5RWPRhvc5ubj",
        "outputId": "cc98369a-582e-45c7-fbe7-a94c1abc40b0"
      },
      "source": [
        "#----------------------------------------\n",
        "#######################################\n",
        "print(\"매개변수에 초깃값 미리 설정하기\")\n",
        "#######################################\n",
        "def say_myself(name, old, man=True): \n",
        "    print(\"나의 이름은 %s 입니다.\" % name) \n",
        "    print(\"나이는 %d살입니다.\" % old) \n",
        "    if man: \n",
        "        print(\"남자입니다.\")\n",
        "    else: \n",
        "        print(\"여자입니다.\")\n",
        "    \n",
        "\n",
        "#say_myself(\"박응용\", 27)\n",
        "#say_myself(\"박응용\", 27, True)\n",
        "\n",
        "say_myself(\"박응용\", 27, False)"
      ],
      "execution_count": null,
      "outputs": [
        {
          "output_type": "stream",
          "text": [
            "매개변수에 초깃값 미리 설정하기\n",
            "나의 이름은 박응용 입니다.\n",
            "나이는 27살입니다.\n",
            "여자입니다.\n"
          ],
          "name": "stdout"
        }
      ]
    },
    {
      "cell_type": "code",
      "metadata": {
        "colab": {
          "base_uri": "https://localhost:8080/",
          "height": 136
        },
        "id": "dvKRUkRi6GRe",
        "outputId": "0a5ee46b-a6f4-4a98-8dc9-0840a369ddfa"
      },
      "source": [
        "\n",
        "def say_myself2(name, man=True, old): \n",
        "    print(\"나의 이름은 %s 입니다.\" % name) \n",
        "    print(\"나이는 %d살입니다.\" % old) \n",
        "    if man: \n",
        "        print(\"남자입니다.\") \n",
        "    else:\n",
        "        print(\"여자입니다.\")\n",
        "    \n",
        "\n",
        "# 초깃값을 설정해 놓은 매개변수 뒤에 \n",
        "# 초깃값을 설정해 놓지 않은 매개변수는 사용할 수 없다\n",
        "# 초기화시키고 싶은 매개변수를 항상 뒤쪽에 놓는다.\n",
        "# 키워드형식의 매개변수는 항상 뒤에 지정.\n"
      ],
      "execution_count": null,
      "outputs": [
        {
          "output_type": "error",
          "ename": "SyntaxError",
          "evalue": "ignored",
          "traceback": [
            "\u001b[0;36m  File \u001b[0;32m\"<ipython-input-17-6c97f6d33df8>\"\u001b[0;36m, line \u001b[0;32m2\u001b[0m\n\u001b[0;31m    def say_myself2(name, man=True, old):\u001b[0m\n\u001b[0m                   ^\u001b[0m\n\u001b[0;31mSyntaxError\u001b[0m\u001b[0;31m:\u001b[0m non-default argument follows default argument\n"
          ]
        }
      ]
    },
    {
      "cell_type": "code",
      "metadata": {
        "colab": {
          "base_uri": "https://localhost:8080/"
        },
        "id": "AcyxgK6W7ZVx",
        "outputId": "fec694e7-e4e2-4c4d-8d41-a4881430d7c7"
      },
      "source": [
        "def say_myself2(name, old, man=True): \n",
        "    print(\"나의 이름은 %s 입니다.\" % name) \n",
        "    print(\"나이는 %d살입니다.\" % old) \n",
        "    if man: \n",
        "        print(\"남자입니다.\") \n",
        "    else:\n",
        "        print(\"여자입니다.\")\n",
        "\n",
        "say_myself(\"chanjong\",22)"
      ],
      "execution_count": null,
      "outputs": [
        {
          "output_type": "stream",
          "text": [
            "나의 이름은 chanjong 입니다.\n",
            "나이는 22살입니다.\n",
            "남자입니다.\n"
          ],
          "name": "stdout"
        }
      ]
    },
    {
      "cell_type": "code",
      "metadata": {
        "colab": {
          "base_uri": "https://localhost:8080/"
        },
        "id": "CnYx-qHc70Xn",
        "outputId": "556476ff-0f12-4cd4-e21f-a78c0ad28037"
      },
      "source": [
        "def say_myself2(name, old, man=True): \n",
        "    print(\"나의 이름은 %s 입니다.\" % name) \n",
        "    print(\"나이는 %d살입니다.\" % old) \n",
        "    if man: \n",
        "        print(\"남자입니다.\") \n",
        "    else:\n",
        "        print(\"여자입니다.\")\n",
        "say_myself(\"chan\",22,False)"
      ],
      "execution_count": null,
      "outputs": [
        {
          "output_type": "stream",
          "text": [
            "나의 이름은 chan 입니다.\n",
            "나이는 22살입니다.\n",
            "여자입니다.\n"
          ],
          "name": "stdout"
        }
      ]
    },
    {
      "cell_type": "markdown",
      "metadata": {
        "id": "XFDelSPD8pnb"
      },
      "source": [
        "### 함수 안에서 선언한 변수의 효력 범위\n",
        "-scope of a variable"
      ]
    },
    {
      "cell_type": "code",
      "metadata": {
        "colab": {
          "base_uri": "https://localhost:8080/"
        },
        "id": "rCSG6ZCS68e9",
        "outputId": "0a450063-1a74-46b8-be18-18ce9f8f61cc"
      },
      "source": [
        "#######################################\n",
        "print(\"함수 안에서 선언한 변수의 효력 범위\")\n",
        "# 전역변수\n",
        "# 지역 변수, 자동 변수\n",
        "#######################################\n",
        "\n",
        "# vartest.py\n",
        "a = 1 # 전역 변수\n",
        "def vartest(a):  # 지역변수(매개변수) \n",
        "    a = a +1\n",
        "\n",
        "vartest(a)\n",
        "print(a)"
      ],
      "execution_count": null,
      "outputs": [
        {
          "output_type": "stream",
          "text": [
            "함수 안에서 선언한 변수의 효력 범위\n",
            "1\n"
          ],
          "name": "stdout"
        }
      ]
    },
    {
      "cell_type": "code",
      "metadata": {
        "colab": {
          "base_uri": "https://localhost:8080/"
        },
        "id": "ZXE-BzV991yP",
        "outputId": "eab3110a-6b37-43d7-f3a6-2223fc74c924"
      },
      "source": [
        "# vartest.py\n",
        "a = 1 # 전역 변수\n",
        "def vartest(a):  # 지역변수(매개변수) \n",
        "    a = a +1\n",
        "\n",
        "vartest(1)\n",
        "print(a)"
      ],
      "execution_count": null,
      "outputs": [
        {
          "output_type": "stream",
          "text": [
            "1\n"
          ],
          "name": "stdout"
        }
      ]
    },
    {
      "cell_type": "code",
      "metadata": {
        "colab": {
          "base_uri": "https://localhost:8080/"
        },
        "id": "T-tjhfiL-CyJ",
        "outputId": "9221a26a-8c78-4927-d2da-f05338fba119"
      },
      "source": [
        "# vartest.py\n",
        "a = 1 # 전역 변수\n",
        "def vartest(a):  # 지역변수(매개변수) \n",
        "    a = a +1\n",
        "    print(\"지역변수 a=\",a)\n",
        "vartest(a)\n",
        "print(\"전역변수 a=\",a)"
      ],
      "execution_count": null,
      "outputs": [
        {
          "output_type": "stream",
          "text": [
            "지역변수 a= 2\n",
            "전역변수 a= 1\n"
          ],
          "name": "stdout"
        }
      ]
    },
    {
      "cell_type": "code",
      "metadata": {
        "colab": {
          "base_uri": "https://localhost:8080/",
          "height": 208
        },
        "id": "SFDMQiT987V7",
        "outputId": "1e408cf2-f034-40cc-c5cb-ea6b538f14c4"
      },
      "source": [
        "# vartest_error.py\n",
        "def vartest2(zz):\n",
        "    zz= zz + 1\n",
        "\n",
        "vartest2(3)\n",
        "print(zz)  # Error\n"
      ],
      "execution_count": null,
      "outputs": [
        {
          "output_type": "error",
          "ename": "NameError",
          "evalue": "ignored",
          "traceback": [
            "\u001b[0;31m---------------------------------------------------------------------------\u001b[0m",
            "\u001b[0;31mNameError\u001b[0m                                 Traceback (most recent call last)",
            "\u001b[0;32m<ipython-input-32-9358b33a9798>\u001b[0m in \u001b[0;36m<module>\u001b[0;34m()\u001b[0m\n\u001b[1;32m      4\u001b[0m \u001b[0;34m\u001b[0m\u001b[0m\n\u001b[1;32m      5\u001b[0m \u001b[0mvartest2\u001b[0m\u001b[0;34m(\u001b[0m\u001b[0;36m3\u001b[0m\u001b[0;34m)\u001b[0m\u001b[0;34m\u001b[0m\u001b[0;34m\u001b[0m\u001b[0m\n\u001b[0;32m----> 6\u001b[0;31m \u001b[0mprint\u001b[0m\u001b[0;34m(\u001b[0m\u001b[0mzz\u001b[0m\u001b[0;34m)\u001b[0m  \u001b[0;31m# Error\u001b[0m\u001b[0;34m\u001b[0m\u001b[0;34m\u001b[0m\u001b[0m\n\u001b[0m",
            "\u001b[0;31mNameError\u001b[0m: name 'zz' is not defined"
          ]
        }
      ]
    },
    {
      "cell_type": "code",
      "metadata": {
        "colab": {
          "base_uri": "https://localhost:8080/"
        },
        "id": "yFCM4E66-m0j",
        "outputId": "ab3a120c-6135-446d-fed2-4dce2a0694c5"
      },
      "source": [
        "#######################################\n",
        "print(\"함수 안에서 함수 밖의 변수를 변경하는 방법\")\n",
        "# return 사용\n",
        "# global 변수 사용\n",
        "#######################################\n",
        "# 1. return 사용하기\n",
        "a = 1 \n",
        "def vartest3(a): \n",
        "    a = a +1 \n",
        "    return a\n",
        "\n",
        "a = vartest3(a) \n",
        "print(a)"
      ],
      "execution_count": null,
      "outputs": [
        {
          "output_type": "stream",
          "text": [
            "함수 안에서 함수 밖의 변수를 변경하는 방법\n",
            "2\n"
          ],
          "name": "stdout"
        }
      ]
    },
    {
      "cell_type": "code",
      "metadata": {
        "colab": {
          "base_uri": "https://localhost:8080/"
        },
        "id": "8YihgJUm_YeB",
        "outputId": "94ac435c-a93e-4645-e00f-658d992f5738"
      },
      "source": [
        "\n",
        "\n",
        "# 2. global 명령어 사용하기(가능한 사용하지 않습니다.)\n",
        "a = 1 \n",
        "def vartest4(): \n",
        "    global a \n",
        "    a = a+1\n",
        "\n",
        "vartest4() \n",
        "print(a)"
      ],
      "execution_count": null,
      "outputs": [
        {
          "output_type": "stream",
          "text": [
            "2\n"
          ],
          "name": "stdout"
        }
      ]
    },
    {
      "cell_type": "markdown",
      "metadata": {
        "id": "YjYIbtnBACaR"
      },
      "source": [
        "## lambda 함수 정의\n",
        " -이름 없는 함수를 정의 할 떄"
      ]
    },
    {
      "cell_type": "code",
      "metadata": {
        "colab": {
          "base_uri": "https://localhost:8080/"
        },
        "id": "3sAMcaks_wMR",
        "outputId": "7d1df6e0-4527-4e1d-8468-c6a86c58ca73"
      },
      "source": [
        "#--------   lambda  -------------------\n",
        "#######################################\n",
        "print(\"lambda\")\n",
        "#######################################\n",
        "# lambda는 함수를 생성할 때 사용하는 예약어로 def와 동일한 역할을 한다. \n",
        "# 보통 함수를 한줄로 간결하게 만들 때 사용한다.\n",
        "#\n",
        "# lambda 사용법\n",
        "#\n",
        "# lambda 매개변수1, 매개변수2, ... : 매개변수를 이용한 표현식\n",
        "#\n",
        "print(\"lambda를 이용한 add 함수\")\n",
        "\n",
        "add = lambda a, b: a+b\n",
        "\n",
        "result = add(3, 4)\n",
        "print(result)\n",
        "\n",
        "# lambda 예약어로 만든 함수는 return 명령어가 없어도 결괏값을 돌려준다.\n"
      ],
      "execution_count": null,
      "outputs": [
        {
          "output_type": "stream",
          "text": [
            "lambda\n",
            "lambda를 이용한 add 함수\n",
            "7\n"
          ],
          "name": "stdout"
        }
      ]
    },
    {
      "cell_type": "code",
      "metadata": {
        "colab": {
          "base_uri": "https://localhost:8080/"
        },
        "id": "8gnih5trAQhe",
        "outputId": "e918c1d7-cbe4-4259-9f2d-ca5caf418a2a"
      },
      "source": [
        "\n",
        "################################\n",
        "# lambda 함수의 응용\n",
        "#\n",
        "models = ['K-3000', 'N-1000', 'T-2000', 'X-5000']\n",
        "sorted(models, key=lambda x: x[-4:])\n",
        "\n",
        "# So cool!!!\n"
      ],
      "execution_count": null,
      "outputs": [
        {
          "output_type": "execute_result",
          "data": {
            "text/plain": [
              "['N-1000', 'T-2000', 'K-3000', 'X-5000']"
            ]
          },
          "metadata": {
            "tags": []
          },
          "execution_count": 38
        }
      ]
    },
    {
      "cell_type": "code",
      "metadata": {
        "id": "Nn87uHUqtW64",
        "colab": {
          "base_uri": "https://localhost:8080/",
          "height": 35
        },
        "outputId": "e5188d96-dd3e-45d0-d9f5-1c694b962ebf"
      },
      "source": [
        "# vartest.py\n",
        "a = 1\n",
        "def vartest(a):\n",
        "    a = a +1\n",
        "    # print(a)\n",
        "\n",
        "vartest(a)\n",
        "print(a)"
      ],
      "execution_count": null,
      "outputs": [
        {
          "output_type": "stream",
          "text": [
            "1\n"
          ],
          "name": "stdout"
        }
      ]
    },
    {
      "cell_type": "code",
      "metadata": {
        "id": "0Y0fMfkPtW62",
        "colab": {
          "base_uri": "https://localhost:8080/",
          "height": 136
        },
        "outputId": "cbfd7f07-c734-4cb1-bb1b-2ef298fc3e33"
      },
      "source": [
        "# function_test.py\n",
        "\n",
        "# scope_test()\n",
        "x = 5\n",
        "\n",
        "\n",
        "def scope_test():\n",
        "    print(x)\n",
        "    print(x+5)\n",
        "     x += 5\n",
        "\n",
        "\n",
        " scope_test()\n"
      ],
      "execution_count": null,
      "outputs": [
        {
          "output_type": "error",
          "ename": "IndentationError",
          "evalue": "ignored",
          "traceback": [
            "\u001b[0;36m  File \u001b[0;32m\"<ipython-input-40-58443501c3c3>\"\u001b[0;36m, line \u001b[0;32m10\u001b[0m\n\u001b[0;31m    x += 5\u001b[0m\n\u001b[0m    ^\u001b[0m\n\u001b[0;31mIndentationError\u001b[0m\u001b[0;31m:\u001b[0m unexpected indent\n"
          ]
        }
      ]
    },
    {
      "cell_type": "code",
      "metadata": {
        "id": "mZat2YHiA7jc"
      },
      "source": [
        "\n",
        " #*args : multiple parameters\n",
        "\n",
        "\n",
        "def args_test(*args):\n",
        "    print(type(args))\n",
        "    print(args)\n",
        "    for arg in args:\n",
        "        print(arg)\n",
        "#args_test(1, 2, 3, 4)\n",
        "#args_test(list(range(4)))\n"
      ],
      "execution_count": null,
      "outputs": []
    },
    {
      "cell_type": "code",
      "metadata": {
        "colab": {
          "base_uri": "https://localhost:8080/"
        },
        "id": "N5x68SCmBofQ",
        "outputId": "832fcf1d-b39d-4797-9d64-dc1585921b79"
      },
      "source": [
        "args_test(1, 2, 3, 4)"
      ],
      "execution_count": null,
      "outputs": [
        {
          "output_type": "stream",
          "text": [
            "<class 'tuple'>\n",
            "(1, 2, 3, 4)\n",
            "1\n",
            "2\n",
            "3\n",
            "4\n"
          ],
          "name": "stdout"
        }
      ]
    },
    {
      "cell_type": "code",
      "metadata": {
        "colab": {
          "base_uri": "https://localhost:8080/"
        },
        "id": "mC5KecTIBzOD",
        "outputId": "50827702-4268-4378-98a6-00a349608d58"
      },
      "source": [
        "args_test(list(range(4)))"
      ],
      "execution_count": null,
      "outputs": [
        {
          "output_type": "stream",
          "text": [
            "<class 'tuple'>\n",
            "([0, 1, 2, 3],)\n",
            "[0, 1, 2, 3]\n"
          ],
          "name": "stdout"
        }
      ]
    },
    {
      "cell_type": "code",
      "metadata": {
        "colab": {
          "base_uri": "https://localhost:8080/"
        },
        "id": "4ezJ4ZkuC9rv",
        "outputId": "90d0cdfb-9b56-4a62-d8ff-ac0b5bcc2a0f"
      },
      "source": [
        "args_test([0,1],[2,3,4])"
      ],
      "execution_count": null,
      "outputs": [
        {
          "output_type": "stream",
          "text": [
            "<class 'tuple'>\n",
            "([0, 1], [2, 3, 4])\n",
            "[0, 1]\n",
            "[2, 3, 4]\n"
          ],
          "name": "stdout"
        }
      ]
    },
    {
      "cell_type": "code",
      "metadata": {
        "colab": {
          "base_uri": "https://localhost:8080/"
        },
        "id": "UrFmPAMuCU1t",
        "outputId": "49856850-e2fa-4d91-d06b-f01d4890a143"
      },
      "source": [
        "#**kawargs : keyword arguments\n",
        "\n",
        "\n",
        "def kwarg_test(**kwargs):\n",
        "    print(type(kwargs))\n",
        "    print(kwargs)\n",
        "    for item in kwargs.items():\n",
        "        print(item)\n",
        "\n",
        "\n",
        "kwarg_test(a=1, b='hi')\n",
        "#kwarg_test(x=[1,2,3], y='Hello')"
      ],
      "execution_count": null,
      "outputs": [
        {
          "output_type": "stream",
          "text": [
            "<class 'dict'>\n",
            "{'a': 1, 'b': 'hi'}\n",
            "('a', 1)\n",
            "('b', 'hi')\n"
          ],
          "name": "stdout"
        }
      ]
    },
    {
      "cell_type": "code",
      "metadata": {
        "colab": {
          "base_uri": "https://localhost:8080/"
        },
        "id": "NBsLUReWDSpu",
        "outputId": "95dba64e-4329-4865-8370-bc87bc14587d"
      },
      "source": [
        "kwarg_test(x=[1,2,3], y='Hello')"
      ],
      "execution_count": null,
      "outputs": [
        {
          "output_type": "stream",
          "text": [
            "<class 'dict'>\n",
            "{'x': [1, 2, 3], 'y': 'Hello'}\n",
            "('x', [1, 2, 3])\n",
            "('y', 'Hello')\n"
          ],
          "name": "stdout"
        }
      ]
    },
    {
      "cell_type": "markdown",
      "metadata": {
        "id": "aiBB3U0ge03F"
      },
      "source": [
        "## 도전 코딩\n",
        "- A 학급에 총 10명의 학생이 있다. 이 학생들의 중간고사 점수는 다음과 같다.\n",
        "\n",
        "- A = [70, 60, 55, 75, 95, 90, 80, 80, 85, 100]\n",
        "\n",
        "> 함수를 사용하여 A 학급의 평균 점수를 구해 보자.\n",
        ">> 함수명: average_class(A)\n"
      ]
    },
    {
      "cell_type": "code",
      "metadata": {
        "id": "fGBlcLGN-3pd",
        "colab": {
          "base_uri": "https://localhost:8080/"
        },
        "outputId": "06c171fd-987e-442c-e2b3-8c8096eeae06"
      },
      "source": [
        "A = [70, 60, 55, 75, 95, 90, 80, 80, 85, 100]\n",
        "def avergae_class(A):\n",
        "    result =0 \n",
        "    for i in A:\n",
        "      result = result + i\n",
        "    return result\n",
        "\n",
        "result=avergae_class(A)\n",
        "print(\"평균 점수는 %.2f점 입니다\"%(result/len(A)))"
      ],
      "execution_count": null,
      "outputs": [
        {
          "output_type": "stream",
          "text": [
            "평균 점수는 79.00점 입니다\n"
          ],
          "name": "stdout"
        }
      ]
    },
    {
      "cell_type": "code",
      "metadata": {
        "colab": {
          "base_uri": "https://localhost:8080/"
        },
        "id": "GtBaCh-w_hOZ",
        "outputId": "93d566f1-9846-428a-cd70-1e36fb221132"
      },
      "source": [
        "A = [70, 60, 55, 75, 95, 90, 80, 80, 85, 100]\n",
        "def avergae_class(A):\n",
        "    return (sum(A)/len(A))\n",
        "print(\"평균 점수는 {0}점 입니다.\".format(avergae_class(A)))"
      ],
      "execution_count": null,
      "outputs": [
        {
          "output_type": "stream",
          "text": [
            "평균 점수는 79.0점 입니다.\n"
          ],
          "name": "stdout"
        }
      ]
    }
  ]
}