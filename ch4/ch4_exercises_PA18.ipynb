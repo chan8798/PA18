{
  "nbformat": 4,
  "nbformat_minor": 0,
  "metadata": {
    "colab": {
      "name": "ch4_exercises.PA18",
      "provenance": [],
      "collapsed_sections": [],
      "include_colab_link": true
    },
    "kernelspec": {
      "name": "python3",
      "display_name": "Python 3"
    }
  },
  "cells": [
    {
      "cell_type": "markdown",
      "metadata": {
        "id": "view-in-github",
        "colab_type": "text"
      },
      "source": [
        "<a href=\"https://colab.research.google.com/github/chan8798/PA18/blob/main/ch4/ch4_exercises_PA18.ipynb\" target=\"_parent\"><img src=\"https://colab.research.google.com/assets/colab-badge.svg\" alt=\"Open In Colab\"/></a>"
      ]
    },
    {
      "cell_type": "markdown",
      "metadata": {
        "id": "ovY5jkD5dpxE"
      },
      "source": [
        "## ch4_exercises.PA18"
      ]
    },
    {
      "cell_type": "markdown",
      "metadata": {
        "id": "SZw6UnxQWYBe"
      },
      "source": [
        "## Q1.\n",
        "> 주어진 자연수가 홀수인지 짝수인지 판별해 주는 함수(is_odd)를 작성해 보자.\n"
      ]
    },
    {
      "cell_type": "code",
      "metadata": {
        "id": "rUNNaqJPdg7B",
        "colab": {
          "base_uri": "https://localhost:8080/"
        },
        "outputId": "f7eb70bf-5df7-4c3a-f668-a34f2bfc4587"
      },
      "source": [
        "\n",
        "# [Q1] Code - 1\n",
        "def is_odd(number):\n",
        "  return bool(number % 2 == 0)\n",
        "\n",
        "is_odd(2)\n"
      ],
      "execution_count": 1,
      "outputs": [
        {
          "output_type": "execute_result",
          "data": {
            "text/plain": [
              "True"
            ]
          },
          "metadata": {
            "tags": []
          },
          "execution_count": 1
        }
      ]
    },
    {
      "cell_type": "code",
      "metadata": {
        "colab": {
          "base_uri": "https://localhost:8080/"
        },
        "id": "240akEqa5k7N",
        "outputId": "f672713d-519f-4f27-a6c1-13218408ab63"
      },
      "source": [
        "# [Q1] Code - 2\n",
        "is_odd = lambda x: True if x % 2 == 0 else False\n",
        "is_odd(3)"
      ],
      "execution_count": 4,
      "outputs": [
        {
          "output_type": "execute_result",
          "data": {
            "text/plain": [
              "False"
            ]
          },
          "metadata": {
            "tags": []
          },
          "execution_count": 4
        }
      ]
    },
    {
      "cell_type": "code",
      "metadata": {
        "colab": {
          "base_uri": "https://localhost:8080/",
          "height": 34
        },
        "id": "4IDN1JRP5qft",
        "outputId": "a412167a-5668-4d70-de7f-2c086cd6803c"
      },
      "source": [
        "# [Q1] Code - 3\n",
        "def is_odd(num):\n",
        "    if num%2==0:\n",
        "      return '짝수'\n",
        "    else:\n",
        "      return '홀수'\n",
        "is_odd(4)\n",
        "# print(is_odd(5))"
      ],
      "execution_count": 5,
      "outputs": [
        {
          "output_type": "execute_result",
          "data": {
            "application/vnd.google.colaboratory.intrinsic+json": {
              "type": "string"
            },
            "text/plain": [
              "'짝수'"
            ]
          },
          "metadata": {
            "tags": []
          },
          "execution_count": 5
        }
      ]
    },
    {
      "cell_type": "markdown",
      "metadata": {
        "id": "re2-XrUYXF1m"
      },
      "source": [
        "## Q2.\n",
        "> 입력으로 들어오는 모든 수의 평균 값을 계산해 주는 함수를 작성해 보자. \n",
        "- (단 입력으로 들어오는 수의 개수는 정해져 있지 않다.)\n",
        "- ※ 평균 값을 구할 때 len 함수를 사용해 보자.\n"
      ]
    },
    {
      "cell_type": "code",
      "metadata": {
        "id": "5MBLUZ5WXF1q",
        "colab": {
          "base_uri": "https://localhost:8080/"
        },
        "outputId": "91baa4ad-d6c4-4336-c9bc-d45d12f1266e"
      },
      "source": [
        "# [Q2] Code\n",
        "def avg_number(*args):\n",
        "    result = 0\n",
        "    for i in args:\n",
        "      result += i\n",
        "    return result/len(args)\n",
        "\n",
        "avg_number(4,7,9,10)"
      ],
      "execution_count": 6,
      "outputs": [
        {
          "output_type": "execute_result",
          "data": {
            "text/plain": [
              "7.5"
            ]
          },
          "metadata": {
            "tags": []
          },
          "execution_count": 6
        }
      ]
    },
    {
      "cell_type": "markdown",
      "metadata": {
        "id": "UZy8lu_BXGnT"
      },
      "source": [
        "## Q3.\n",
        "> 다음은 두 개의 숫자를 입력받아 더하여 돌려주는 프로그램이다.\n",
        "\n",
        "```\n",
        "input1 = input(\"첫번째 숫자를 입력하세요:\")\n",
        "input2 = input(\"두번째 숫자를 입력하세요:\")\n",
        "\n",
        "total = input1 + input2\n",
        "print(\"두 수의 합은 %s 입니다\" % total)\n",
        "\n",
        "```\n",
        "---\n",
        "> 이 프로그램을 수행해 보자.\n",
        "\n",
        ">> 첫번째 숫자를 입력하세요:3  \n",
        ">> 두번째 숫자를 입력하세요:6\n",
        "- 두 수의 합은 36 입니다\n",
        "- 3과 6을 입력했을 때 9가 아닌 36이라는 결괏값을 돌려주었다.  \n",
        "이 프로그램의 오류를 수정해 보자."
      ]
    },
    {
      "cell_type": "code",
      "metadata": {
        "id": "H9T_sXHzXGnW",
        "colab": {
          "base_uri": "https://localhost:8080/"
        },
        "outputId": "e3b70f46-0047-45f2-b76d-d3fde57bae5e"
      },
      "source": [
        "\n",
        "# [Q3] Code\n",
        "input1 = input(\"첫번째 숫자를 입력하세요:\")\n",
        "input2 = input(\"두번째 숫자를 입력하세요:\")\n",
        "\n",
        "total = int(input1)+int(input2) # int함수를 사용하여 숫자로 바꾸어 준다.\n",
        "\n",
        "print(\"두 수의 합은 %d 입니다\" % total)\n",
        "\n"
      ],
      "execution_count": 7,
      "outputs": [
        {
          "output_type": "stream",
          "text": [
            "첫번째 숫자를 입력하세요:6\n",
            "두번째 숫자를 입력하세요:3\n",
            "두 수의 합은 9 입니다\n"
          ],
          "name": "stdout"
        }
      ]
    },
    {
      "cell_type": "markdown",
      "metadata": {
        "id": "fqypxxqTXHY7"
      },
      "source": [
        "## Q4.\n",
        "> 다음 중 출력 결과가 다른 것 한 개를 골라 보자.\n",
        "\n",
        "```\n",
        "print(\"you\" \"need\" \"python\")\n",
        "print(\"you\"+\"need\"+\"python\")\n",
        "print(\"you\", \"need\", \"python\")\n",
        "print(\"\".join([\"you\", \"need\", \"python\"]))\n",
        "```"
      ]
    },
    {
      "cell_type": "markdown",
      "metadata": {
        "id": "WBniS_gm59tX"
      },
      "source": [
        "-큰따옴표(\")로 둘러싸인 문자열은 + 연산과 동일하므로 문자열 공백을 없이 출력된다"
      ]
    },
    {
      "cell_type": "code",
      "metadata": {
        "id": "oQ5UnmayXHY-",
        "colab": {
          "base_uri": "https://localhost:8080/"
        },
        "outputId": "60e66562-ef2a-4289-a138-841289b58ba6"
      },
      "source": [
        "# [Q4] Code\n",
        "\n",
        "print(\"you\" \"need\" \"python\")\n"
      ],
      "execution_count": 8,
      "outputs": [
        {
          "output_type": "stream",
          "text": [
            "youneedpython\n"
          ],
          "name": "stdout"
        }
      ]
    },
    {
      "cell_type": "code",
      "metadata": {
        "colab": {
          "base_uri": "https://localhost:8080/"
        },
        "id": "FyA9xA4b6GrF",
        "outputId": "cac695c8-40a9-4131-fa61-5876a3f176c2"
      },
      "source": [
        "print(\"you\"+\"need\"+\"python\")"
      ],
      "execution_count": 9,
      "outputs": [
        {
          "output_type": "stream",
          "text": [
            "youneedpython\n"
          ],
          "name": "stdout"
        }
      ]
    },
    {
      "cell_type": "markdown",
      "metadata": {
        "id": "Somri9tJ6NBm"
      },
      "source": [
        "-큰따옴표(\"\") 안에 공백이나 문자가 없으므로 리스트 안에 문자열이 서로 이어져서 출력된다."
      ]
    },
    {
      "cell_type": "code",
      "metadata": {
        "colab": {
          "base_uri": "https://localhost:8080/"
        },
        "id": "1lxyNgJK6KrH",
        "outputId": "d4f01453-217c-41fc-ddf7-679bc3258151"
      },
      "source": [
        "print(\"\".join([\"you\", \"need\", \"python\"]))"
      ],
      "execution_count": 10,
      "outputs": [
        {
          "output_type": "stream",
          "text": [
            "youneedpython\n"
          ],
          "name": "stdout"
        }
      ]
    },
    {
      "cell_type": "markdown",
      "metadata": {
        "id": "_aOhaCSy6TpN"
      },
      "source": [
        "-문자열 띄어쓰기는 콤마(,)로 하기 때문에 공백 한 칸씩 띄어쓰기로 출력된다."
      ]
    },
    {
      "cell_type": "code",
      "metadata": {
        "id": "xPHYjRkN6QXn"
      },
      "source": [
        "print(\"you\", \"need\", \"python\")"
      ],
      "execution_count": null,
      "outputs": []
    },
    {
      "cell_type": "markdown",
      "metadata": {
        "id": "NKsvciXZXIL-"
      },
      "source": [
        "## Q5.\n",
        "> 다음은 \"test.txt\"라는 파일에 \"Life is too short\" 문자열을 저장한 후 다시 그 파일을 읽어서 출력하는 프로그램이다.\n",
        "\n",
        "```\n",
        "f1 = open(\"test.txt\", 'w')\n",
        "f1.write(\"Life is too short\")\n",
        "\n",
        "f2 = open(\"test.txt\", 'r')\n",
        "print(f2.read())\n",
        "\n",
        "```\n",
        ">> 이 프로그램은 우리가 예상한 \"Life is too short\"라는 문장을 출력하지 않는다.\n",
        "\n",
        ">> 우리가 예상한 값을 출력할 수 있도록 프로그램을 수정해 보자."
      ]
    },
    {
      "cell_type": "code",
      "metadata": {
        "id": "5MZQYOVjXIL_",
        "colab": {
          "base_uri": "https://localhost:8080/"
        },
        "outputId": "070431b1-23e9-4b82-c00f-50c0ecb96edf"
      },
      "source": [
        "# [Q5] Code - 1\n",
        "f1 = open(\"test.txt\", 'w')\n",
        "f1.write(\"Life is too short\")\n",
        "f1.close() # 파일 닫기\n",
        "\n",
        "f2 = open(\"test.txt\", 'r')\n",
        "print(f2.read())\n",
        "f2.close()\n",
        "\n"
      ],
      "execution_count": 11,
      "outputs": [
        {
          "output_type": "stream",
          "text": [
            "Life is too short\n"
          ],
          "name": "stdout"
        }
      ]
    },
    {
      "cell_type": "code",
      "metadata": {
        "colab": {
          "base_uri": "https://localhost:8080/"
        },
        "id": "KX0pweCm6dvT",
        "outputId": "de136279-f365-4c6d-e0de-f8a59feef9e8"
      },
      "source": [
        "# [Q5] Code - 2\n",
        "with open(\"test.txt\",\"w\") as f1:\n",
        "    f1.write(\"Life is too short\")\n",
        "with open(\"test.txt\",\"r\") as f2:\n",
        "    print(f2.read())"
      ],
      "execution_count": 12,
      "outputs": [
        {
          "output_type": "stream",
          "text": [
            "Life is too short\n"
          ],
          "name": "stdout"
        }
      ]
    },
    {
      "cell_type": "markdown",
      "metadata": {
        "id": "-3KHtOOoXJBV"
      },
      "source": [
        "## Q6.\n",
        "> 사용자의 입력을 파일(test.txt)에 저장하는 프로그램을 작성해 보자. \n",
        "- (단 프로그램을 다시 실행하더라도 기존에 작성한 내용을 유지하고 새로 입력한 내용을 추가해야 한다.)\n"
      ]
    },
    {
      "cell_type": "code",
      "metadata": {
        "id": "AjYR0lUaXJBa",
        "colab": {
          "base_uri": "https://localhost:8080/"
        },
        "outputId": "30fb6498-d695-4297-8b66-f5a3d74f0c60"
      },
      "source": [
        "# [Q6] Code\n",
        "user_input = input(\"저장할 내용을 입력해주세요:\")\n",
        "f = open('test.txt','a')\n",
        "f.write(user_input)\n",
        "f.write(\"\\n\")\n",
        "f.close()\n",
        "\n"
      ],
      "execution_count": 13,
      "outputs": [
        {
          "output_type": "stream",
          "text": [
            "저장할 내용을 입력해주세요:chanjong\n"
          ],
          "name": "stdout"
        }
      ]
    },
    {
      "cell_type": "markdown",
      "metadata": {
        "id": "YrS3b88QbmKo"
      },
      "source": [
        "## Q7.\n",
        "> 다음과 같은 내용을 지닌 파일 foo1.txt가 있다. 이 파일의 내용 중 \"java\"라는 문자열을 \"python\"으로 바꾸어서 저장해 보자.\n",
        "\n",
        ">> Life is too short  \n",
        ">> you need java\n",
        "\n",
        "- ※ replace 함수를 사용해 보자.\n"
      ]
    },
    {
      "cell_type": "code",
      "metadata": {
        "id": "Ll_2InMWbmKq"
      },
      "source": [
        "# [Q7] Code\n",
        "f = open('test.txt', 'r')\n",
        "text = f.read()\n",
        "f.close()\n",
        "\n",
        "text = text.replace('java', 'python')\n",
        "\n",
        "f = open('test.txt', 'w')\n",
        "f.write(text)\n",
        "f.close()\n",
        "\n"
      ],
      "execution_count": 14,
      "outputs": []
    },
    {
      "cell_type": "markdown",
      "metadata": {
        "id": "2ljBDShkbqZO"
      },
      "source": [
        "## 코딩 연습 결과를 github에 올리기\n",
        "> 완성된 ipython 노트북 파일을 각자의 github에 올리시오.\n",
        "\n",
        "- github 계정 만들기 (계정이 없는 학생)\n",
        "    1. github에 sign up (Google gmail 계정을 이용해서 만드시오.)\n",
        "- github에 노트 올리기\n",
        "    2. github에 각자의 id로 repo를 만드시오. (한번 만들면 계속 재사용)\n",
        "    3. github repo에 연습결과 노트를 올리시오.\n",
        "        - 제출노트: ch4_exercises_id.ipynb\n"
      ]
    },
    {
      "cell_type": "code",
      "metadata": {
        "id": "OnCR-YNCc8B6"
      },
      "source": [
        ""
      ],
      "execution_count": null,
      "outputs": []
    }
  ]
}